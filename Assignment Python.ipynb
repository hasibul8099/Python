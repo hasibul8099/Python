{
 "cells": [
  {
   "cell_type": "markdown",
   "id": "f8f6a87d",
   "metadata": {},
   "source": [
    "# Basic Python"
   ]
  },
  {
   "cell_type": "code",
   "execution_count": null,
   "id": "8cab4b63",
   "metadata": {},
   "outputs": [],
   "source": [
    "'Data science'"
   ]
  },
  {
   "cell_type": "markdown",
   "id": "3c6976c3",
   "metadata": {},
   "source": [
    "## print() output"
   ]
  },
  {
   "cell_type": "code",
   "execution_count": 2,
   "id": "28dfeeb8",
   "metadata": {},
   "outputs": [
    {
     "name": "stdout",
     "output_type": "stream",
     "text": [
      " University of Barishal\n",
      " Department of Statistics*"
     ]
    }
   ],
   "source": [
    "print(' University of Barishal','Department of Statistics',sep='\\n ',end='*')"
   ]
  },
  {
   "cell_type": "code",
   "execution_count": 3,
   "id": "251bbc6d",
   "metadata": {},
   "outputs": [
    {
     "name": "stdout",
     "output_type": "stream",
     "text": [
      "Md Hasibul Hasan\n"
     ]
    }
   ],
   "source": [
    "New='Md Hasibul Hasan' #variable (New)\n",
    "print(New)"
   ]
  },
  {
   "cell_type": "code",
   "execution_count": 4,
   "id": "4341339e",
   "metadata": {},
   "outputs": [
    {
     "name": "stdout",
     "output_type": "stream",
     "text": [
      "My name is Md Hasibul Hasan\n"
     ]
    }
   ],
   "source": [
    "print('My name is '+New) #using variable"
   ]
  },
  {
   "cell_type": "code",
   "execution_count": 5,
   "id": "b6ebf283",
   "metadata": {},
   "outputs": [
    {
     "data": {
      "text/plain": [
       "65"
      ]
     },
     "execution_count": 5,
     "metadata": {},
     "output_type": "execute_result"
    }
   ],
   "source": [
    "import sys\n",
    "sys.getsizeof(New)"
   ]
  },
  {
   "cell_type": "markdown",
   "id": "37f0d812",
   "metadata": {},
   "source": [
    "# variable"
   ]
  },
  {
   "cell_type": "code",
   "execution_count": 6,
   "id": "d7a18090",
   "metadata": {},
   "outputs": [
    {
     "data": {
      "text/plain": [
       "21"
      ]
     },
     "execution_count": 6,
     "metadata": {},
     "output_type": "execute_result"
    }
   ],
   "source": [
    "Name='Hasib'\n",
    "Age=21\n",
    "Name\n",
    "Age"
   ]
  },
  {
   "cell_type": "code",
   "execution_count": 7,
   "id": "c5f05d2a",
   "metadata": {},
   "outputs": [],
   "source": [
    "Name1,Age2,Roll='Hasibul',21,10"
   ]
  },
  {
   "cell_type": "code",
   "execution_count": 8,
   "id": "4af310a9",
   "metadata": {},
   "outputs": [
    {
     "data": {
      "text/plain": [
       "21"
      ]
     },
     "execution_count": 8,
     "metadata": {},
     "output_type": "execute_result"
    }
   ],
   "source": [
    "Age2"
   ]
  },
  {
   "cell_type": "markdown",
   "id": "daeb829a",
   "metadata": {},
   "source": [
    "### local vs global variable"
   ]
  },
  {
   "cell_type": "code",
   "execution_count": 9,
   "id": "6808605f",
   "metadata": {},
   "outputs": [
    {
     "name": "stdout",
     "output_type": "stream",
     "text": [
      "My num is  500\n"
     ]
    }
   ],
   "source": [
    "x=1000\n",
    "\n",
    "def func1():\n",
    "    x=500\n",
    "    print('My num is ',x)\n",
    "func1()    "
   ]
  },
  {
   "cell_type": "code",
   "execution_count": 10,
   "id": "5d6c8b46",
   "metadata": {},
   "outputs": [
    {
     "name": "stdout",
     "output_type": "stream",
     "text": [
      "My num is  500\n",
      "My num is  1000\n"
     ]
    }
   ],
   "source": [
    "x=1000 #Global variable\n",
    "\n",
    "def func1():\n",
    "    x=500 #Local variable\n",
    "    print('My num is ',x) #here x value according to local var.\n",
    "func1() \n",
    "print('My num is ',x)  #here x value according to global var."
   ]
  },
  {
   "cell_type": "markdown",
   "id": "f859ff22",
   "metadata": {},
   "source": [
    "## Input()"
   ]
  },
  {
   "cell_type": "code",
   "execution_count": 1,
   "id": "10ae3af5",
   "metadata": {},
   "outputs": [
    {
     "name": "stdout",
     "output_type": "stream",
     "text": [
      "500\n"
     ]
    }
   ],
   "source": [
    " x=input()"
   ]
  },
  {
   "cell_type": "code",
   "execution_count": 2,
   "id": "b21487a1",
   "metadata": {},
   "outputs": [
    {
     "name": "stdout",
     "output_type": "stream",
     "text": [
      "600\n"
     ]
    }
   ],
   "source": [
    " y=input()"
   ]
  },
  {
   "cell_type": "code",
   "execution_count": 3,
   "id": "4a9cb601",
   "metadata": {},
   "outputs": [
    {
     "data": {
      "text/plain": [
       "'500600'"
      ]
     },
     "execution_count": 3,
     "metadata": {},
     "output_type": "execute_result"
    }
   ],
   "source": [
    "x+y"
   ]
  },
  {
   "cell_type": "code",
   "execution_count": null,
   "id": "f3680a05",
   "metadata": {},
   "outputs": [],
   "source": [
    "r=input() #here input() contains string data\n",
    "u=input()"
   ]
  },
  {
   "cell_type": "code",
   "execution_count": null,
   "id": "5cb33838",
   "metadata": {},
   "outputs": [],
   "source": [
    "r+u"
   ]
  },
  {
   "cell_type": "code",
   "execution_count": 4,
   "id": "6cf77b30",
   "metadata": {},
   "outputs": [
    {
     "name": "stdout",
     "output_type": "stream",
     "text": [
      "Enter your 1st num=50\n",
      "Enter your 2nd num=70\n"
     ]
    }
   ],
   "source": [
    "F=float(input('Enter your 1st num=' ))\n",
    "G=float(input('Enter your 2nd num='))"
   ]
  },
  {
   "cell_type": "code",
   "execution_count": 5,
   "id": "4a0e2804",
   "metadata": {},
   "outputs": [
    {
     "data": {
      "text/plain": [
       "120.0"
      ]
     },
     "execution_count": 5,
     "metadata": {},
     "output_type": "execute_result"
    }
   ],
   "source": [
    "F+G"
   ]
  },
  {
   "cell_type": "code",
   "execution_count": 1,
   "id": "a92fcb2d",
   "metadata": {},
   "outputs": [],
   "source": [
    "Roll='q20 STA 010 STA'"
   ]
  },
  {
   "cell_type": "code",
   "execution_count": 2,
   "id": "2ee32f9d",
   "metadata": {},
   "outputs": [
    {
     "data": {
      "text/plain": [
       "str"
      ]
     },
     "execution_count": 2,
     "metadata": {},
     "output_type": "execute_result"
    }
   ],
   "source": [
    "type(Roll)"
   ]
  },
  {
   "cell_type": "code",
   "execution_count": 8,
   "id": "ae6429fc",
   "metadata": {},
   "outputs": [
    {
     "data": {
      "text/plain": [
       "15"
      ]
     },
     "execution_count": 8,
     "metadata": {},
     "output_type": "execute_result"
    }
   ],
   "source": [
    "len(Roll)"
   ]
  },
  {
   "cell_type": "code",
   "execution_count": 13,
   "id": "1f1d0e7e",
   "metadata": {},
   "outputs": [
    {
     "data": {
      "text/plain": [
       "3"
      ]
     },
     "execution_count": 13,
     "metadata": {},
     "output_type": "execute_result"
    }
   ],
   "source": [
    "Roll.count('STA')"
   ]
  },
  {
   "cell_type": "code",
   "execution_count": 11,
   "id": "a4fd4a75",
   "metadata": {},
   "outputs": [],
   "source": [
    "sub='0'"
   ]
  },
  {
   "cell_type": "code",
   "execution_count": 12,
   "id": "c03e170b",
   "metadata": {},
   "outputs": [
    {
     "data": {
      "text/plain": [
       "3"
      ]
     },
     "execution_count": 12,
     "metadata": {},
     "output_type": "execute_result"
    }
   ],
   "source": [
    "Roll.count(sub)"
   ]
  },
  {
   "cell_type": "markdown",
   "id": "4381fcb7",
   "metadata": {},
   "source": [
    "# Indexing String"
   ]
  },
  {
   "cell_type": "code",
   "execution_count": 14,
   "id": "5b7f4d10",
   "metadata": {},
   "outputs": [
    {
     "data": {
      "text/plain": [
       "4"
      ]
     },
     "execution_count": 14,
     "metadata": {},
     "output_type": "execute_result"
    }
   ],
   "source": [
    "Roll.find('STA')"
   ]
  },
  {
   "cell_type": "code",
   "execution_count": 15,
   "id": "19428a43",
   "metadata": {},
   "outputs": [
    {
     "data": {
      "text/plain": [
       "2"
      ]
     },
     "execution_count": 15,
     "metadata": {},
     "output_type": "execute_result"
    }
   ],
   "source": [
    "Roll.find('0')"
   ]
  },
  {
   "cell_type": "code",
   "execution_count": 16,
   "id": "3608a5ed",
   "metadata": {},
   "outputs": [
    {
     "data": {
      "text/plain": [
       "-1"
      ]
     },
     "execution_count": 16,
     "metadata": {},
     "output_type": "execute_result"
    }
   ],
   "source": [
    "Roll.find('T',0,3) # if the T don't contain in 0-3,output shows -1."
   ]
  },
  {
   "cell_type": "code",
   "execution_count": 17,
   "id": "a7722077",
   "metadata": {},
   "outputs": [
    {
     "data": {
      "text/plain": [
       "5"
      ]
     },
     "execution_count": 17,
     "metadata": {},
     "output_type": "execute_result"
    }
   ],
   "source": [
    "Roll.find('T',3,12)"
   ]
  },
  {
   "cell_type": "code",
   "execution_count": 18,
   "id": "e02557d0",
   "metadata": {},
   "outputs": [
    {
     "data": {
      "text/plain": [
       "5"
      ]
     },
     "execution_count": 18,
     "metadata": {},
     "output_type": "execute_result"
    }
   ],
   "source": [
    "Roll.index('T',3,12)"
   ]
  },
  {
   "cell_type": "code",
   "execution_count": 19,
   "id": "845ad715",
   "metadata": {},
   "outputs": [
    {
     "ename": "ValueError",
     "evalue": "substring not found",
     "output_type": "error",
     "traceback": [
      "\u001b[1;31m---------------------------------------------------------------------------\u001b[0m",
      "\u001b[1;31mValueError\u001b[0m                                Traceback (most recent call last)",
      "Input \u001b[1;32mIn [19]\u001b[0m, in \u001b[0;36m<cell line: 1>\u001b[1;34m()\u001b[0m\n\u001b[1;32m----> 1\u001b[0m \u001b[43mRoll\u001b[49m\u001b[38;5;241;43m.\u001b[39;49m\u001b[43mindex\u001b[49m\u001b[43m(\u001b[49m\u001b[38;5;124;43m'\u001b[39;49m\u001b[38;5;124;43mTo\u001b[39;49m\u001b[38;5;124;43m'\u001b[39;49m\u001b[43m)\u001b[49m\n",
      "\u001b[1;31mValueError\u001b[0m: substring not found"
     ]
    }
   ],
   "source": [
    "Roll.index('To') #not exist in Roll."
   ]
  },
  {
   "cell_type": "code",
   "execution_count": 20,
   "id": "c0670eb8",
   "metadata": {},
   "outputs": [
    {
     "data": {
      "text/plain": [
       "'Q20 STA 010 STA'"
      ]
     },
     "execution_count": 20,
     "metadata": {},
     "output_type": "execute_result"
    }
   ],
   "source": [
    "Roll.upper()"
   ]
  },
  {
   "cell_type": "code",
   "execution_count": 21,
   "id": "977b632a",
   "metadata": {},
   "outputs": [
    {
     "data": {
      "text/plain": [
       "'q20 sta 010 sta'"
      ]
     },
     "execution_count": 21,
     "metadata": {},
     "output_type": "execute_result"
    }
   ],
   "source": [
    "Roll.lower()"
   ]
  },
  {
   "cell_type": "code",
   "execution_count": 22,
   "id": "16f1a295",
   "metadata": {},
   "outputs": [
    {
     "data": {
      "text/plain": [
       "'q20 sta 010 sta'"
      ]
     },
     "execution_count": 22,
     "metadata": {},
     "output_type": "execute_result"
    }
   ],
   "source": [
    "Roll.casefold() #lower case"
   ]
  },
  {
   "cell_type": "code",
   "execution_count": 23,
   "id": "46a14d10",
   "metadata": {},
   "outputs": [
    {
     "data": {
      "text/plain": [
       "'Q20 sta 010 sta'"
      ]
     },
     "execution_count": 23,
     "metadata": {},
     "output_type": "execute_result"
    }
   ],
   "source": [
    "Roll.capitalize() #Only first char converts into upper."
   ]
  },
  {
   "cell_type": "code",
   "execution_count": 24,
   "id": "bd4bf5de",
   "metadata": {},
   "outputs": [],
   "source": [
    "s='Welcome to BU.department of Statistics.'"
   ]
  },
  {
   "cell_type": "code",
   "execution_count": 25,
   "id": "cbc04466",
   "metadata": {},
   "outputs": [
    {
     "data": {
      "text/plain": [
       "'Welcome to bu.department of statistics.'"
      ]
     },
     "execution_count": 25,
     "metadata": {},
     "output_type": "execute_result"
    }
   ],
   "source": [
    "s.capitalize()"
   ]
  },
  {
   "cell_type": "code",
   "execution_count": null,
   "id": "3a96a8c4",
   "metadata": {},
   "outputs": [],
   "source": [
    "s.title() #each word's first char converts into upper"
   ]
  },
  {
   "cell_type": "code",
   "execution_count": null,
   "id": "7d5fd8e6",
   "metadata": {},
   "outputs": [],
   "source": [
    "s.swapcase() #first word's first char lower then second word's first char upper ,,......"
   ]
  },
  {
   "cell_type": "code",
   "execution_count": null,
   "id": "38c6665e",
   "metadata": {},
   "outputs": [],
   "source": [
    "s.split()"
   ]
  },
  {
   "cell_type": "code",
   "execution_count": null,
   "id": "adc6ecf5",
   "metadata": {},
   "outputs": [],
   "source": [
    "s.split()[0]"
   ]
  },
  {
   "cell_type": "code",
   "execution_count": null,
   "id": "fdcc5aec",
   "metadata": {},
   "outputs": [],
   "source": [
    "s.split()[4]"
   ]
  },
  {
   "cell_type": "code",
   "execution_count": null,
   "id": "93967952",
   "metadata": {},
   "outputs": [],
   "source": [
    "s.center(100)"
   ]
  },
  {
   "cell_type": "code",
   "execution_count": null,
   "id": "89aadb5e",
   "metadata": {},
   "outputs": [],
   "source": [
    "s.replace('Welcome','Congratulation')"
   ]
  },
  {
   "cell_type": "code",
   "execution_count": null,
   "id": "8cbc697b",
   "metadata": {},
   "outputs": [],
   "source": [
    "x=100\n",
    "y=50\n",
    "z=x*y\n",
    "\n",
    "print('I have {} taka'.format(z))"
   ]
  },
  {
   "cell_type": "markdown",
   "id": "ff670ef7",
   "metadata": {},
   "source": [
    "# All about Data in python"
   ]
  },
  {
   "cell_type": "code",
   "execution_count": 2,
   "id": "300dbaeb",
   "metadata": {},
   "outputs": [],
   "source": [
    "#Numeric Data\n",
    "x=100\n",
    "y=100.5\n",
    "z=10+4j"
   ]
  },
  {
   "cell_type": "code",
   "execution_count": 3,
   "id": "ba7bd6b7",
   "metadata": {},
   "outputs": [
    {
     "data": {
      "text/plain": [
       "complex"
      ]
     },
     "execution_count": 3,
     "metadata": {},
     "output_type": "execute_result"
    }
   ],
   "source": [
    "type(z)"
   ]
  },
  {
   "cell_type": "code",
   "execution_count": 4,
   "id": "3bc8620e",
   "metadata": {},
   "outputs": [
    {
     "data": {
      "text/plain": [
       "True"
      ]
     },
     "execution_count": 4,
     "metadata": {},
     "output_type": "execute_result"
    }
   ],
   "source": [
    "isinstance(z,complex)"
   ]
  },
  {
   "cell_type": "code",
   "execution_count": 6,
   "id": "8eec8227",
   "metadata": {},
   "outputs": [
    {
     "data": {
      "text/plain": [
       "100.0"
      ]
     },
     "execution_count": 6,
     "metadata": {},
     "output_type": "execute_result"
    }
   ],
   "source": [
    "# Int to Float\n",
    "N=float(x)\n",
    "N"
   ]
  },
  {
   "cell_type": "code",
   "execution_count": 7,
   "id": "264c8b93",
   "metadata": {},
   "outputs": [
    {
     "data": {
      "text/plain": [
       "100"
      ]
     },
     "execution_count": 7,
     "metadata": {},
     "output_type": "execute_result"
    }
   ],
   "source": [
    "n=int(N)\n",
    "n"
   ]
  },
  {
   "cell_type": "code",
   "execution_count": 9,
   "id": "a66491bf",
   "metadata": {},
   "outputs": [
    {
     "data": {
      "text/plain": [
       "(100+0j)"
      ]
     },
     "execution_count": 9,
     "metadata": {},
     "output_type": "execute_result"
    }
   ],
   "source": [
    "#int to comples\n",
    "g=complex(N)\n",
    "g"
   ]
  },
  {
   "cell_type": "markdown",
   "id": "4dea672d",
   "metadata": {},
   "source": [
    "# Sequence Data"
   ]
  },
  {
   "cell_type": "code",
   "execution_count": 1,
   "id": "35d22201",
   "metadata": {},
   "outputs": [
    {
     "data": {
      "text/plain": [
       "[1, 2, 3, 2, [1, 2, 5], True, 'Hasib', (9, 0, 7, 8)]"
      ]
     },
     "execution_count": 1,
     "metadata": {},
     "output_type": "execute_result"
    }
   ],
   "source": [
    "#List []\n",
    "li=[1,2,3,2,[1,2,5],True,'Hasib',(9,0,7,8)]\n",
    "li"
   ]
  },
  {
   "cell_type": "code",
   "execution_count": 2,
   "id": "48764a3f",
   "metadata": {},
   "outputs": [
    {
     "data": {
      "text/plain": [
       "[1, 2, 5]"
      ]
     },
     "execution_count": 2,
     "metadata": {},
     "output_type": "execute_result"
    }
   ],
   "source": [
    "li[4]"
   ]
  },
  {
   "cell_type": "code",
   "execution_count": 3,
   "id": "1ffe97ab",
   "metadata": {},
   "outputs": [
    {
     "data": {
      "text/plain": [
       "2"
      ]
     },
     "execution_count": 3,
     "metadata": {},
     "output_type": "execute_result"
    }
   ],
   "source": [
    "li[4][1]"
   ]
  },
  {
   "cell_type": "code",
   "execution_count": 4,
   "id": "0763ef84",
   "metadata": {},
   "outputs": [
    {
     "data": {
      "text/plain": [
       "(9, 0, 7, 8)"
      ]
     },
     "execution_count": 4,
     "metadata": {},
     "output_type": "execute_result"
    }
   ],
   "source": [
    "li[-1]"
   ]
  },
  {
   "cell_type": "code",
   "execution_count": 5,
   "id": "ddc369cd",
   "metadata": {},
   "outputs": [
    {
     "data": {
      "text/plain": [
       "8"
      ]
     },
     "execution_count": 5,
     "metadata": {},
     "output_type": "execute_result"
    }
   ],
   "source": [
    "li[-1][-1]"
   ]
  },
  {
   "cell_type": "code",
   "execution_count": 6,
   "id": "e73c5031",
   "metadata": {},
   "outputs": [
    {
     "data": {
      "text/plain": [
       "(1, 5, 3, 7, 'SD', [1, 2, 3])"
      ]
     },
     "execution_count": 6,
     "metadata": {},
     "output_type": "execute_result"
    }
   ],
   "source": [
    "#Tuple ()\n",
    "t=(1,5,3,7,'SD',[1,2,3])\n",
    "t"
   ]
  },
  {
   "cell_type": "code",
   "execution_count": 7,
   "id": "d5fe7cea",
   "metadata": {},
   "outputs": [
    {
     "data": {
      "text/plain": [
       "[1, 2, 3]"
      ]
     },
     "execution_count": 7,
     "metadata": {},
     "output_type": "execute_result"
    }
   ],
   "source": [
    "t[-1]"
   ]
  },
  {
   "cell_type": "code",
   "execution_count": 8,
   "id": "a9a0788f",
   "metadata": {},
   "outputs": [
    {
     "data": {
      "text/plain": [
       "(1, 5, 3, 7, 'SD')"
      ]
     },
     "execution_count": 8,
     "metadata": {},
     "output_type": "execute_result"
    }
   ],
   "source": [
    "t[0:5]"
   ]
  },
  {
   "cell_type": "code",
   "execution_count": 9,
   "id": "42acb145",
   "metadata": {},
   "outputs": [
    {
     "data": {
      "text/plain": [
       "range(0, 10)"
      ]
     },
     "execution_count": 9,
     "metadata": {},
     "output_type": "execute_result"
    }
   ],
   "source": [
    "#Range ()\n",
    "x= range(10)\n",
    "x"
   ]
  },
  {
   "cell_type": "code",
   "execution_count": 10,
   "id": "98265ed9",
   "metadata": {},
   "outputs": [
    {
     "name": "stdout",
     "output_type": "stream",
     "text": [
      "0\n",
      "1\n",
      "2\n",
      "3\n",
      "4\n",
      "5\n",
      "6\n",
      "7\n",
      "8\n",
      "9\n"
     ]
    }
   ],
   "source": [
    "for i in x:\n",
    "    print(i)"
   ]
  },
  {
   "cell_type": "code",
   "execution_count": 18,
   "id": "e477523f",
   "metadata": {},
   "outputs": [
    {
     "name": "stdout",
     "output_type": "stream",
     "text": [
      "5\n",
      "6\n",
      "7\n",
      "8\n",
      "9\n",
      "10\n",
      "11\n",
      "12\n",
      "13\n",
      "14\n",
      "15\n",
      "16\n",
      "17\n",
      "18\n",
      "19\n"
     ]
    }
   ],
   "source": [
    "x=range(5,20)\n",
    "for i in x:\n",
    "    print(i)"
   ]
  },
  {
   "cell_type": "code",
   "execution_count": 21,
   "id": "56419298",
   "metadata": {},
   "outputs": [
    {
     "name": "stdout",
     "output_type": "stream",
     "text": [
      "5\n",
      "7\n",
      "9\n",
      "11\n",
      "13\n",
      "15\n",
      "17\n",
      "19\n"
     ]
    }
   ],
   "source": [
    "x=range(5,20,2)\n",
    "for i in x:\n",
    "    print(i)"
   ]
  },
  {
   "cell_type": "code",
   "execution_count": 26,
   "id": "e6ef2de3",
   "metadata": {},
   "outputs": [
    {
     "name": "stdout",
     "output_type": "stream",
     "text": [
      "20\n",
      "18\n",
      "16\n",
      "14\n",
      "12\n",
      "10\n",
      "8\n",
      "6\n"
     ]
    }
   ],
   "source": [
    "x=range(20,5,-2)\n",
    "for i in x:\n",
    "    print(i)"
   ]
  },
  {
   "cell_type": "markdown",
   "id": "1740a0ed",
   "metadata": {},
   "source": [
    "# Array"
   ]
  },
  {
   "cell_type": "code",
   "execution_count": 27,
   "id": "ab53ef85",
   "metadata": {},
   "outputs": [],
   "source": [
    "import array as ar"
   ]
  },
  {
   "cell_type": "code",
   "execution_count": 32,
   "id": "05d9d9d3",
   "metadata": {},
   "outputs": [
    {
     "data": {
      "text/plain": [
       "array('i', [1, 2, 3])"
      ]
     },
     "execution_count": 32,
     "metadata": {},
     "output_type": "execute_result"
    }
   ],
   "source": [
    "A=ar.array('i',[1,2,3]) #Array first argument must be a unicode.\n",
    "A"
   ]
  },
  {
   "cell_type": "code",
   "execution_count": 33,
   "id": "1458e144",
   "metadata": {},
   "outputs": [
    {
     "data": {
      "text/plain": [
       "array.array"
      ]
     },
     "execution_count": 33,
     "metadata": {},
     "output_type": "execute_result"
    }
   ],
   "source": [
    "type(A)"
   ]
  },
  {
   "cell_type": "markdown",
   "id": "65b8bf60",
   "metadata": {},
   "source": [
    "#### set"
   ]
  },
  {
   "cell_type": "code",
   "execution_count": 34,
   "id": "595bbdfb",
   "metadata": {},
   "outputs": [],
   "source": [
    "s={1,2,3,4}"
   ]
  },
  {
   "cell_type": "code",
   "execution_count": 35,
   "id": "e98225ef",
   "metadata": {},
   "outputs": [
    {
     "data": {
      "text/plain": [
       "set"
      ]
     },
     "execution_count": 35,
     "metadata": {},
     "output_type": "execute_result"
    }
   ],
   "source": [
    "type(s)"
   ]
  },
  {
   "cell_type": "markdown",
   "id": "bb9445e8",
   "metadata": {},
   "source": [
    "#### Dictionary"
   ]
  },
  {
   "cell_type": "code",
   "execution_count": 39,
   "id": "789e99ed",
   "metadata": {},
   "outputs": [
    {
     "data": {
      "text/plain": [
       "{'Institude': 'University of Barishal',\n",
       " 'Department': 'Statistics',\n",
       " 'Roll': '20 STA 010'}"
      ]
     },
     "execution_count": 39,
     "metadata": {},
     "output_type": "execute_result"
    }
   ],
   "source": [
    "dic={\n",
    "    'Institude':'University of Barishal',\n",
    "    'Department':'Statistics',\n",
    "    'Roll':'20 STA 010'\n",
    "}\n",
    "dic"
   ]
  },
  {
   "cell_type": "code",
   "execution_count": 40,
   "id": "1b145f72",
   "metadata": {},
   "outputs": [
    {
     "data": {
      "text/plain": [
       "dict"
      ]
     },
     "execution_count": 40,
     "metadata": {},
     "output_type": "execute_result"
    }
   ],
   "source": [
    "type(dic)"
   ]
  },
  {
   "cell_type": "code",
   "execution_count": 41,
   "id": "d6295015",
   "metadata": {},
   "outputs": [
    {
     "data": {
      "text/plain": [
       "dict_keys(['Institude', 'Department', 'Roll'])"
      ]
     },
     "execution_count": 41,
     "metadata": {},
     "output_type": "execute_result"
    }
   ],
   "source": [
    "dic.keys()"
   ]
  },
  {
   "cell_type": "code",
   "execution_count": 42,
   "id": "332f0f8c",
   "metadata": {},
   "outputs": [
    {
     "data": {
      "text/plain": [
       "dict_values(['University of Barishal', 'Statistics', '20 STA 010'])"
      ]
     },
     "execution_count": 42,
     "metadata": {},
     "output_type": "execute_result"
    }
   ],
   "source": [
    "dic.values()"
   ]
  },
  {
   "cell_type": "markdown",
   "id": "7098b282",
   "metadata": {},
   "source": [
    "# Data Frame"
   ]
  },
  {
   "cell_type": "code",
   "execution_count": 50,
   "id": "70186460",
   "metadata": {},
   "outputs": [],
   "source": [
    "import pandas as pd"
   ]
  },
  {
   "cell_type": "code",
   "execution_count": 52,
   "id": "8da5ec79",
   "metadata": {},
   "outputs": [],
   "source": [
    "ds=pd.read_csv(\"JOMA.csv\")"
   ]
  },
  {
   "cell_type": "code",
   "execution_count": 53,
   "id": "aca81b0c",
   "metadata": {},
   "outputs": [
    {
     "data": {
      "text/html": [
       "<div>\n",
       "<style scoped>\n",
       "    .dataframe tbody tr th:only-of-type {\n",
       "        vertical-align: middle;\n",
       "    }\n",
       "\n",
       "    .dataframe tbody tr th {\n",
       "        vertical-align: top;\n",
       "    }\n",
       "\n",
       "    .dataframe thead th {\n",
       "        text-align: right;\n",
       "    }\n",
       "</style>\n",
       "<table border=\"1\" class=\"dataframe\">\n",
       "  <thead>\n",
       "    <tr style=\"text-align: right;\">\n",
       "      <th></th>\n",
       "      <th>Unnamed: 0</th>\n",
       "      <th>JUNE,2022</th>\n",
       "      <th>JULY,2022</th>\n",
       "      <th>AUGUST,2022</th>\n",
       "      <th>SEPTEMBER,2022</th>\n",
       "      <th>OCTOBER,2022</th>\n",
       "      <th>NOVEMBER,2022</th>\n",
       "      <th>DECEMBER,2022</th>\n",
       "    </tr>\n",
       "  </thead>\n",
       "  <tbody>\n",
       "    <tr>\n",
       "      <th>0</th>\n",
       "      <td>Name</td>\n",
       "      <td>Joma</td>\n",
       "      <td>NaN</td>\n",
       "      <td>Joma</td>\n",
       "      <td>NaN</td>\n",
       "      <td>NaN</td>\n",
       "      <td>NaN</td>\n",
       "      <td>NaN</td>\n",
       "    </tr>\n",
       "    <tr>\n",
       "      <th>1</th>\n",
       "      <td>Sumaiya Akter</td>\n",
       "      <td>20tk</td>\n",
       "      <td>NaN</td>\n",
       "      <td>20tk</td>\n",
       "      <td>NaN</td>\n",
       "      <td>NaN</td>\n",
       "      <td>NaN</td>\n",
       "      <td>NaN</td>\n",
       "    </tr>\n",
       "    <tr>\n",
       "      <th>2</th>\n",
       "      <td>Md: Nadim  Islam Nayan</td>\n",
       "      <td>20tk</td>\n",
       "      <td>NaN</td>\n",
       "      <td>20tk</td>\n",
       "      <td>NaN</td>\n",
       "      <td>NaN</td>\n",
       "      <td>NaN</td>\n",
       "      <td>NaN</td>\n",
       "    </tr>\n",
       "    <tr>\n",
       "      <th>3</th>\n",
       "      <td>Md Abdur Rahman Bijoy</td>\n",
       "      <td>20tk</td>\n",
       "      <td>NaN</td>\n",
       "      <td>20tk</td>\n",
       "      <td>NaN</td>\n",
       "      <td>NaN</td>\n",
       "      <td>NaN</td>\n",
       "      <td>NaN</td>\n",
       "    </tr>\n",
       "    <tr>\n",
       "      <th>4</th>\n",
       "      <td>Shariful Islam</td>\n",
       "      <td>20tk</td>\n",
       "      <td>NaN</td>\n",
       "      <td>20tk</td>\n",
       "      <td>NaN</td>\n",
       "      <td>NaN</td>\n",
       "      <td>NaN</td>\n",
       "      <td>NaN</td>\n",
       "    </tr>\n",
       "    <tr>\n",
       "      <th>5</th>\n",
       "      <td>Md. Tusher Imran</td>\n",
       "      <td>20tk</td>\n",
       "      <td>NaN</td>\n",
       "      <td>20tk</td>\n",
       "      <td>NaN</td>\n",
       "      <td>NaN</td>\n",
       "      <td>NaN</td>\n",
       "      <td>NaN</td>\n",
       "    </tr>\n",
       "    <tr>\n",
       "      <th>6</th>\n",
       "      <td>Bahauddin Bahar</td>\n",
       "      <td>20tk</td>\n",
       "      <td>NaN</td>\n",
       "      <td>20tk</td>\n",
       "      <td>NaN</td>\n",
       "      <td>NaN</td>\n",
       "      <td>NaN</td>\n",
       "      <td>NaN</td>\n",
       "    </tr>\n",
       "    <tr>\n",
       "      <th>7</th>\n",
       "      <td>Sathi Akter</td>\n",
       "      <td>20tk</td>\n",
       "      <td>NaN</td>\n",
       "      <td>20tk</td>\n",
       "      <td>NaN</td>\n",
       "      <td>NaN</td>\n",
       "      <td>NaN</td>\n",
       "      <td>NaN</td>\n",
       "    </tr>\n",
       "    <tr>\n",
       "      <th>8</th>\n",
       "      <td>MD Arman</td>\n",
       "      <td>20tk</td>\n",
       "      <td>NaN</td>\n",
       "      <td>20tk</td>\n",
       "      <td>NaN</td>\n",
       "      <td>NaN</td>\n",
       "      <td>NaN</td>\n",
       "      <td>NaN</td>\n",
       "    </tr>\n",
       "    <tr>\n",
       "      <th>9</th>\n",
       "      <td>Md Hasibul Hasan</td>\n",
       "      <td>20tk</td>\n",
       "      <td>NaN</td>\n",
       "      <td>20tk</td>\n",
       "      <td>NaN</td>\n",
       "      <td>NaN</td>\n",
       "      <td>NaN</td>\n",
       "      <td>NaN</td>\n",
       "    </tr>\n",
       "    <tr>\n",
       "      <th>10</th>\n",
       "      <td>Satsato Roy Jagannath</td>\n",
       "      <td>20tk</td>\n",
       "      <td>NaN</td>\n",
       "      <td>20tk</td>\n",
       "      <td>NaN</td>\n",
       "      <td>NaN</td>\n",
       "      <td>NaN</td>\n",
       "      <td>NaN</td>\n",
       "    </tr>\n",
       "    <tr>\n",
       "      <th>11</th>\n",
       "      <td>Md Asik Hossain</td>\n",
       "      <td>20tk</td>\n",
       "      <td>NaN</td>\n",
       "      <td>20tk</td>\n",
       "      <td>NaN</td>\n",
       "      <td>NaN</td>\n",
       "      <td>NaN</td>\n",
       "      <td>NaN</td>\n",
       "    </tr>\n",
       "    <tr>\n",
       "      <th>12</th>\n",
       "      <td>Md. Aolad</td>\n",
       "      <td>NaN</td>\n",
       "      <td>NaN</td>\n",
       "      <td>NaN</td>\n",
       "      <td>NaN</td>\n",
       "      <td>NaN</td>\n",
       "      <td>NaN</td>\n",
       "      <td>NaN</td>\n",
       "    </tr>\n",
       "    <tr>\n",
       "      <th>13</th>\n",
       "      <td>Hasan Shariar Shawron</td>\n",
       "      <td>20tk</td>\n",
       "      <td>NaN</td>\n",
       "      <td>20tk</td>\n",
       "      <td>NaN</td>\n",
       "      <td>NaN</td>\n",
       "      <td>NaN</td>\n",
       "      <td>NaN</td>\n",
       "    </tr>\n",
       "    <tr>\n",
       "      <th>14</th>\n",
       "      <td>Rahima Ferdaous</td>\n",
       "      <td>20tk</td>\n",
       "      <td>NaN</td>\n",
       "      <td>20tk</td>\n",
       "      <td>NaN</td>\n",
       "      <td>NaN</td>\n",
       "      <td>NaN</td>\n",
       "      <td>NaN</td>\n",
       "    </tr>\n",
       "    <tr>\n",
       "      <th>15</th>\n",
       "      <td>Cidratul Muntaha Joty</td>\n",
       "      <td>20tk</td>\n",
       "      <td>NaN</td>\n",
       "      <td>20tk</td>\n",
       "      <td>NaN</td>\n",
       "      <td>NaN</td>\n",
       "      <td>NaN</td>\n",
       "      <td>NaN</td>\n",
       "    </tr>\n",
       "    <tr>\n",
       "      <th>16</th>\n",
       "      <td>Monirul Islam Roni</td>\n",
       "      <td>20tk</td>\n",
       "      <td>NaN</td>\n",
       "      <td>NaN</td>\n",
       "      <td>NaN</td>\n",
       "      <td>NaN</td>\n",
       "      <td>NaN</td>\n",
       "      <td>NaN</td>\n",
       "    </tr>\n",
       "    <tr>\n",
       "      <th>17</th>\n",
       "      <td>MD. Robin Mia</td>\n",
       "      <td>20tk</td>\n",
       "      <td>NaN</td>\n",
       "      <td>NaN</td>\n",
       "      <td>NaN</td>\n",
       "      <td>NaN</td>\n",
       "      <td>NaN</td>\n",
       "      <td>NaN</td>\n",
       "    </tr>\n",
       "    <tr>\n",
       "      <th>18</th>\n",
       "      <td>Pritha Halder</td>\n",
       "      <td>20tk</td>\n",
       "      <td>NaN</td>\n",
       "      <td>20tk</td>\n",
       "      <td>NaN</td>\n",
       "      <td>NaN</td>\n",
       "      <td>NaN</td>\n",
       "      <td>NaN</td>\n",
       "    </tr>\n",
       "    <tr>\n",
       "      <th>19</th>\n",
       "      <td>Eshita Akter</td>\n",
       "      <td>NaN</td>\n",
       "      <td>NaN</td>\n",
       "      <td>20tk</td>\n",
       "      <td>NaN</td>\n",
       "      <td>NaN</td>\n",
       "      <td>NaN</td>\n",
       "      <td>NaN</td>\n",
       "    </tr>\n",
       "    <tr>\n",
       "      <th>20</th>\n",
       "      <td>Sharmistha Biswas Swarna</td>\n",
       "      <td>20tk</td>\n",
       "      <td>NaN</td>\n",
       "      <td>20tk</td>\n",
       "      <td>NaN</td>\n",
       "      <td>NaN</td>\n",
       "      <td>NaN</td>\n",
       "      <td>NaN</td>\n",
       "    </tr>\n",
       "    <tr>\n",
       "      <th>21</th>\n",
       "      <td>Sumona Akter Mahida</td>\n",
       "      <td>20tk</td>\n",
       "      <td>NaN</td>\n",
       "      <td>20tk</td>\n",
       "      <td>NaN</td>\n",
       "      <td>NaN</td>\n",
       "      <td>NaN</td>\n",
       "      <td>NaN</td>\n",
       "    </tr>\n",
       "    <tr>\n",
       "      <th>22</th>\n",
       "      <td>Akash Biswas</td>\n",
       "      <td>20tk</td>\n",
       "      <td>NaN</td>\n",
       "      <td>20tk</td>\n",
       "      <td>NaN</td>\n",
       "      <td>NaN</td>\n",
       "      <td>NaN</td>\n",
       "      <td>NaN</td>\n",
       "    </tr>\n",
       "    <tr>\n",
       "      <th>23</th>\n",
       "      <td>Tashmina Ahmed Shormy</td>\n",
       "      <td>20tk</td>\n",
       "      <td>NaN</td>\n",
       "      <td>20tk</td>\n",
       "      <td>NaN</td>\n",
       "      <td>NaN</td>\n",
       "      <td>NaN</td>\n",
       "      <td>NaN</td>\n",
       "    </tr>\n",
       "    <tr>\n",
       "      <th>24</th>\n",
       "      <td>Nowsin Afroj</td>\n",
       "      <td>20tk</td>\n",
       "      <td>NaN</td>\n",
       "      <td>20tk</td>\n",
       "      <td>NaN</td>\n",
       "      <td>NaN</td>\n",
       "      <td>NaN</td>\n",
       "      <td>NaN</td>\n",
       "    </tr>\n",
       "    <tr>\n",
       "      <th>25</th>\n",
       "      <td>Md. Arifuzzaman</td>\n",
       "      <td>20tk</td>\n",
       "      <td>NaN</td>\n",
       "      <td>20tk</td>\n",
       "      <td>NaN</td>\n",
       "      <td>NaN</td>\n",
       "      <td>NaN</td>\n",
       "      <td>NaN</td>\n",
       "    </tr>\n",
       "    <tr>\n",
       "      <th>26</th>\n",
       "      <td>Farzana Tabassum Mim</td>\n",
       "      <td>20tk</td>\n",
       "      <td>NaN</td>\n",
       "      <td>20tk</td>\n",
       "      <td>NaN</td>\n",
       "      <td>NaN</td>\n",
       "      <td>NaN</td>\n",
       "      <td>NaN</td>\n",
       "    </tr>\n",
       "    <tr>\n",
       "      <th>27</th>\n",
       "      <td>Md. Torikul islam neous</td>\n",
       "      <td>NaN</td>\n",
       "      <td>NaN</td>\n",
       "      <td>NaN</td>\n",
       "      <td>NaN</td>\n",
       "      <td>NaN</td>\n",
       "      <td>NaN</td>\n",
       "      <td>NaN</td>\n",
       "    </tr>\n",
       "    <tr>\n",
       "      <th>28</th>\n",
       "      <td>Afia Anjum Mim</td>\n",
       "      <td>20tk</td>\n",
       "      <td>NaN</td>\n",
       "      <td>20tk</td>\n",
       "      <td>NaN</td>\n",
       "      <td>NaN</td>\n",
       "      <td>NaN</td>\n",
       "      <td>NaN</td>\n",
       "    </tr>\n",
       "    <tr>\n",
       "      <th>29</th>\n",
       "      <td>Navid ahmed</td>\n",
       "      <td>NaN</td>\n",
       "      <td>NaN</td>\n",
       "      <td>NaN</td>\n",
       "      <td>NaN</td>\n",
       "      <td>NaN</td>\n",
       "      <td>NaN</td>\n",
       "      <td>NaN</td>\n",
       "    </tr>\n",
       "    <tr>\n",
       "      <th>30</th>\n",
       "      <td>Afsan Sami</td>\n",
       "      <td>20tk</td>\n",
       "      <td>NaN</td>\n",
       "      <td>NaN</td>\n",
       "      <td>NaN</td>\n",
       "      <td>NaN</td>\n",
       "      <td>NaN</td>\n",
       "      <td>NaN</td>\n",
       "    </tr>\n",
       "    <tr>\n",
       "      <th>31</th>\n",
       "      <td>Md Razibul islam</td>\n",
       "      <td>NaN</td>\n",
       "      <td>NaN</td>\n",
       "      <td>NaN</td>\n",
       "      <td>NaN</td>\n",
       "      <td>NaN</td>\n",
       "      <td>NaN</td>\n",
       "      <td>NaN</td>\n",
       "    </tr>\n",
       "    <tr>\n",
       "      <th>32</th>\n",
       "      <td>Khondokar Asif</td>\n",
       "      <td>20tk</td>\n",
       "      <td>NaN</td>\n",
       "      <td>20tk</td>\n",
       "      <td>NaN</td>\n",
       "      <td>NaN</td>\n",
       "      <td>NaN</td>\n",
       "      <td>NaN</td>\n",
       "    </tr>\n",
       "    <tr>\n",
       "      <th>33</th>\n",
       "      <td>Sayeeda Afrin Dola</td>\n",
       "      <td>20tk</td>\n",
       "      <td>NaN</td>\n",
       "      <td>NaN</td>\n",
       "      <td>NaN</td>\n",
       "      <td>NaN</td>\n",
       "      <td>NaN</td>\n",
       "      <td>NaN</td>\n",
       "    </tr>\n",
       "    <tr>\n",
       "      <th>34</th>\n",
       "      <td>NaN</td>\n",
       "      <td>NaN</td>\n",
       "      <td>NaN</td>\n",
       "      <td>NaN</td>\n",
       "      <td>NaN</td>\n",
       "      <td>NaN</td>\n",
       "      <td>NaN</td>\n",
       "      <td>NaN</td>\n",
       "    </tr>\n",
       "    <tr>\n",
       "      <th>35</th>\n",
       "      <td>NaN</td>\n",
       "      <td>NaN</td>\n",
       "      <td>NaN</td>\n",
       "      <td>NaN</td>\n",
       "      <td>NaN</td>\n",
       "      <td>NaN</td>\n",
       "      <td>NaN</td>\n",
       "      <td>NaN</td>\n",
       "    </tr>\n",
       "    <tr>\n",
       "      <th>36</th>\n",
       "      <td>NaN</td>\n",
       "      <td>NaN</td>\n",
       "      <td>NaN</td>\n",
       "      <td>NaN</td>\n",
       "      <td>NaN</td>\n",
       "      <td>NaN</td>\n",
       "      <td>NaN</td>\n",
       "      <td>NaN</td>\n",
       "    </tr>\n",
       "    <tr>\n",
       "      <th>37</th>\n",
       "      <td>NaN</td>\n",
       "      <td>NaN</td>\n",
       "      <td>NaN</td>\n",
       "      <td>NaN</td>\n",
       "      <td>NaN</td>\n",
       "      <td>NaN</td>\n",
       "      <td>NaN</td>\n",
       "      <td>NaN</td>\n",
       "    </tr>\n",
       "    <tr>\n",
       "      <th>38</th>\n",
       "      <td>NaN</td>\n",
       "      <td>NaN</td>\n",
       "      <td>NaN</td>\n",
       "      <td>NaN</td>\n",
       "      <td>NaN</td>\n",
       "      <td>NaN</td>\n",
       "      <td>NaN</td>\n",
       "      <td>NaN</td>\n",
       "    </tr>\n",
       "    <tr>\n",
       "      <th>39</th>\n",
       "      <td>Expenditure</td>\n",
       "      <td>NaN</td>\n",
       "      <td>NaN</td>\n",
       "      <td>NaN</td>\n",
       "      <td>NaN</td>\n",
       "      <td>NaN</td>\n",
       "      <td>NaN</td>\n",
       "      <td>NaN</td>\n",
       "    </tr>\n",
       "    <tr>\n",
       "      <th>40</th>\n",
       "      <td>Assignment cover 2ta</td>\n",
       "      <td>10</td>\n",
       "      <td>NaN</td>\n",
       "      <td>NaN</td>\n",
       "      <td>NaN</td>\n",
       "      <td>NaN</td>\n",
       "      <td>NaN</td>\n",
       "      <td>NaN</td>\n",
       "    </tr>\n",
       "    <tr>\n",
       "      <th>41</th>\n",
       "      <td>Assignment cover 1ta</td>\n",
       "      <td>5</td>\n",
       "      <td>NaN</td>\n",
       "      <td>NaN</td>\n",
       "      <td>NaN</td>\n",
       "      <td>NaN</td>\n",
       "      <td>NaN</td>\n",
       "      <td>NaN</td>\n",
       "    </tr>\n",
       "    <tr>\n",
       "      <th>42</th>\n",
       "      <td>Flexi(July)</td>\n",
       "      <td>50</td>\n",
       "      <td>NaN</td>\n",
       "      <td>NaN</td>\n",
       "      <td>NaN</td>\n",
       "      <td>NaN</td>\n",
       "      <td>NaN</td>\n",
       "      <td>NaN</td>\n",
       "    </tr>\n",
       "  </tbody>\n",
       "</table>\n",
       "</div>"
      ],
      "text/plain": [
       "                  Unnamed: 0 JUNE,2022  JULY,2022 AUGUST,2022  SEPTEMBER,2022  \\\n",
       "0                       Name      Joma        NaN        Joma             NaN   \n",
       "1              Sumaiya Akter      20tk        NaN        20tk             NaN   \n",
       "2     Md: Nadim  Islam Nayan      20tk        NaN        20tk             NaN   \n",
       "3      Md Abdur Rahman Bijoy      20tk        NaN        20tk             NaN   \n",
       "4             Shariful Islam      20tk        NaN        20tk             NaN   \n",
       "5           Md. Tusher Imran      20tk        NaN        20tk             NaN   \n",
       "6            Bahauddin Bahar      20tk        NaN        20tk             NaN   \n",
       "7                Sathi Akter      20tk        NaN        20tk             NaN   \n",
       "8                   MD Arman      20tk        NaN        20tk             NaN   \n",
       "9           Md Hasibul Hasan      20tk        NaN        20tk             NaN   \n",
       "10     Satsato Roy Jagannath      20tk        NaN        20tk             NaN   \n",
       "11           Md Asik Hossain      20tk        NaN        20tk             NaN   \n",
       "12                 Md. Aolad       NaN        NaN         NaN             NaN   \n",
       "13     Hasan Shariar Shawron      20tk        NaN        20tk             NaN   \n",
       "14           Rahima Ferdaous      20tk        NaN        20tk             NaN   \n",
       "15     Cidratul Muntaha Joty      20tk        NaN        20tk             NaN   \n",
       "16        Monirul Islam Roni      20tk        NaN         NaN             NaN   \n",
       "17             MD. Robin Mia      20tk        NaN         NaN             NaN   \n",
       "18             Pritha Halder      20tk        NaN        20tk             NaN   \n",
       "19              Eshita Akter       NaN        NaN        20tk             NaN   \n",
       "20  Sharmistha Biswas Swarna      20tk        NaN        20tk             NaN   \n",
       "21       Sumona Akter Mahida      20tk        NaN        20tk             NaN   \n",
       "22              Akash Biswas      20tk        NaN        20tk             NaN   \n",
       "23     Tashmina Ahmed Shormy      20tk        NaN        20tk             NaN   \n",
       "24              Nowsin Afroj      20tk        NaN        20tk             NaN   \n",
       "25           Md. Arifuzzaman      20tk        NaN        20tk             NaN   \n",
       "26      Farzana Tabassum Mim      20tk        NaN        20tk             NaN   \n",
       "27   Md. Torikul islam neous       NaN        NaN         NaN             NaN   \n",
       "28            Afia Anjum Mim      20tk        NaN        20tk             NaN   \n",
       "29               Navid ahmed       NaN        NaN         NaN             NaN   \n",
       "30                Afsan Sami      20tk        NaN         NaN             NaN   \n",
       "31          Md Razibul islam       NaN        NaN         NaN             NaN   \n",
       "32            Khondokar Asif      20tk        NaN        20tk             NaN   \n",
       "33        Sayeeda Afrin Dola      20tk        NaN         NaN             NaN   \n",
       "34                       NaN       NaN        NaN         NaN             NaN   \n",
       "35                       NaN       NaN        NaN         NaN             NaN   \n",
       "36                       NaN       NaN        NaN         NaN             NaN   \n",
       "37                       NaN       NaN        NaN         NaN             NaN   \n",
       "38                       NaN       NaN        NaN         NaN             NaN   \n",
       "39               Expenditure       NaN        NaN         NaN             NaN   \n",
       "40      Assignment cover 2ta        10        NaN         NaN             NaN   \n",
       "41      Assignment cover 1ta         5        NaN         NaN             NaN   \n",
       "42               Flexi(July)        50        NaN         NaN             NaN   \n",
       "\n",
       "    OCTOBER,2022  NOVEMBER,2022  DECEMBER,2022  \n",
       "0            NaN            NaN            NaN  \n",
       "1            NaN            NaN            NaN  \n",
       "2            NaN            NaN            NaN  \n",
       "3            NaN            NaN            NaN  \n",
       "4            NaN            NaN            NaN  \n",
       "5            NaN            NaN            NaN  \n",
       "6            NaN            NaN            NaN  \n",
       "7            NaN            NaN            NaN  \n",
       "8            NaN            NaN            NaN  \n",
       "9            NaN            NaN            NaN  \n",
       "10           NaN            NaN            NaN  \n",
       "11           NaN            NaN            NaN  \n",
       "12           NaN            NaN            NaN  \n",
       "13           NaN            NaN            NaN  \n",
       "14           NaN            NaN            NaN  \n",
       "15           NaN            NaN            NaN  \n",
       "16           NaN            NaN            NaN  \n",
       "17           NaN            NaN            NaN  \n",
       "18           NaN            NaN            NaN  \n",
       "19           NaN            NaN            NaN  \n",
       "20           NaN            NaN            NaN  \n",
       "21           NaN            NaN            NaN  \n",
       "22           NaN            NaN            NaN  \n",
       "23           NaN            NaN            NaN  \n",
       "24           NaN            NaN            NaN  \n",
       "25           NaN            NaN            NaN  \n",
       "26           NaN            NaN            NaN  \n",
       "27           NaN            NaN            NaN  \n",
       "28           NaN            NaN            NaN  \n",
       "29           NaN            NaN            NaN  \n",
       "30           NaN            NaN            NaN  \n",
       "31           NaN            NaN            NaN  \n",
       "32           NaN            NaN            NaN  \n",
       "33           NaN            NaN            NaN  \n",
       "34           NaN            NaN            NaN  \n",
       "35           NaN            NaN            NaN  \n",
       "36           NaN            NaN            NaN  \n",
       "37           NaN            NaN            NaN  \n",
       "38           NaN            NaN            NaN  \n",
       "39           NaN            NaN            NaN  \n",
       "40           NaN            NaN            NaN  \n",
       "41           NaN            NaN            NaN  \n",
       "42           NaN            NaN            NaN  "
      ]
     },
     "execution_count": 53,
     "metadata": {},
     "output_type": "execute_result"
    }
   ],
   "source": [
    "ds"
   ]
  },
  {
   "cell_type": "code",
   "execution_count": 55,
   "id": "88f67519",
   "metadata": {},
   "outputs": [
    {
     "data": {
      "text/html": [
       "<div>\n",
       "<style scoped>\n",
       "    .dataframe tbody tr th:only-of-type {\n",
       "        vertical-align: middle;\n",
       "    }\n",
       "\n",
       "    .dataframe tbody tr th {\n",
       "        vertical-align: top;\n",
       "    }\n",
       "\n",
       "    .dataframe thead th {\n",
       "        text-align: right;\n",
       "    }\n",
       "</style>\n",
       "<table border=\"1\" class=\"dataframe\">\n",
       "  <thead>\n",
       "    <tr style=\"text-align: right;\">\n",
       "      <th></th>\n",
       "      <th>Unnamed: 0</th>\n",
       "      <th>JUNE,2022</th>\n",
       "      <th>JULY,2022</th>\n",
       "      <th>AUGUST,2022</th>\n",
       "      <th>SEPTEMBER,2022</th>\n",
       "      <th>OCTOBER,2022</th>\n",
       "      <th>NOVEMBER,2022</th>\n",
       "      <th>DECEMBER,2022</th>\n",
       "    </tr>\n",
       "  </thead>\n",
       "  <tbody>\n",
       "    <tr>\n",
       "      <th>0</th>\n",
       "      <td>Name</td>\n",
       "      <td>Joma</td>\n",
       "      <td>NaN</td>\n",
       "      <td>Joma</td>\n",
       "      <td>NaN</td>\n",
       "      <td>NaN</td>\n",
       "      <td>NaN</td>\n",
       "      <td>NaN</td>\n",
       "    </tr>\n",
       "    <tr>\n",
       "      <th>1</th>\n",
       "      <td>Sumaiya Akter</td>\n",
       "      <td>20tk</td>\n",
       "      <td>NaN</td>\n",
       "      <td>20tk</td>\n",
       "      <td>NaN</td>\n",
       "      <td>NaN</td>\n",
       "      <td>NaN</td>\n",
       "      <td>NaN</td>\n",
       "    </tr>\n",
       "    <tr>\n",
       "      <th>2</th>\n",
       "      <td>Md: Nadim  Islam Nayan</td>\n",
       "      <td>20tk</td>\n",
       "      <td>NaN</td>\n",
       "      <td>20tk</td>\n",
       "      <td>NaN</td>\n",
       "      <td>NaN</td>\n",
       "      <td>NaN</td>\n",
       "      <td>NaN</td>\n",
       "    </tr>\n",
       "    <tr>\n",
       "      <th>3</th>\n",
       "      <td>Md Abdur Rahman Bijoy</td>\n",
       "      <td>20tk</td>\n",
       "      <td>NaN</td>\n",
       "      <td>20tk</td>\n",
       "      <td>NaN</td>\n",
       "      <td>NaN</td>\n",
       "      <td>NaN</td>\n",
       "      <td>NaN</td>\n",
       "    </tr>\n",
       "    <tr>\n",
       "      <th>4</th>\n",
       "      <td>Shariful Islam</td>\n",
       "      <td>20tk</td>\n",
       "      <td>NaN</td>\n",
       "      <td>20tk</td>\n",
       "      <td>NaN</td>\n",
       "      <td>NaN</td>\n",
       "      <td>NaN</td>\n",
       "      <td>NaN</td>\n",
       "    </tr>\n",
       "    <tr>\n",
       "      <th>5</th>\n",
       "      <td>Md. Tusher Imran</td>\n",
       "      <td>20tk</td>\n",
       "      <td>NaN</td>\n",
       "      <td>20tk</td>\n",
       "      <td>NaN</td>\n",
       "      <td>NaN</td>\n",
       "      <td>NaN</td>\n",
       "      <td>NaN</td>\n",
       "    </tr>\n",
       "    <tr>\n",
       "      <th>6</th>\n",
       "      <td>Bahauddin Bahar</td>\n",
       "      <td>20tk</td>\n",
       "      <td>NaN</td>\n",
       "      <td>20tk</td>\n",
       "      <td>NaN</td>\n",
       "      <td>NaN</td>\n",
       "      <td>NaN</td>\n",
       "      <td>NaN</td>\n",
       "    </tr>\n",
       "    <tr>\n",
       "      <th>7</th>\n",
       "      <td>Sathi Akter</td>\n",
       "      <td>20tk</td>\n",
       "      <td>NaN</td>\n",
       "      <td>20tk</td>\n",
       "      <td>NaN</td>\n",
       "      <td>NaN</td>\n",
       "      <td>NaN</td>\n",
       "      <td>NaN</td>\n",
       "    </tr>\n",
       "    <tr>\n",
       "      <th>8</th>\n",
       "      <td>MD Arman</td>\n",
       "      <td>20tk</td>\n",
       "      <td>NaN</td>\n",
       "      <td>20tk</td>\n",
       "      <td>NaN</td>\n",
       "      <td>NaN</td>\n",
       "      <td>NaN</td>\n",
       "      <td>NaN</td>\n",
       "    </tr>\n",
       "    <tr>\n",
       "      <th>9</th>\n",
       "      <td>Md Hasibul Hasan</td>\n",
       "      <td>20tk</td>\n",
       "      <td>NaN</td>\n",
       "      <td>20tk</td>\n",
       "      <td>NaN</td>\n",
       "      <td>NaN</td>\n",
       "      <td>NaN</td>\n",
       "      <td>NaN</td>\n",
       "    </tr>\n",
       "  </tbody>\n",
       "</table>\n",
       "</div>"
      ],
      "text/plain": [
       "               Unnamed: 0 JUNE,2022  JULY,2022 AUGUST,2022  SEPTEMBER,2022  \\\n",
       "0                    Name      Joma        NaN        Joma             NaN   \n",
       "1           Sumaiya Akter      20tk        NaN        20tk             NaN   \n",
       "2  Md: Nadim  Islam Nayan      20tk        NaN        20tk             NaN   \n",
       "3   Md Abdur Rahman Bijoy      20tk        NaN        20tk             NaN   \n",
       "4          Shariful Islam      20tk        NaN        20tk             NaN   \n",
       "5        Md. Tusher Imran      20tk        NaN        20tk             NaN   \n",
       "6         Bahauddin Bahar      20tk        NaN        20tk             NaN   \n",
       "7             Sathi Akter      20tk        NaN        20tk             NaN   \n",
       "8                MD Arman      20tk        NaN        20tk             NaN   \n",
       "9        Md Hasibul Hasan      20tk        NaN        20tk             NaN   \n",
       "\n",
       "   OCTOBER,2022  NOVEMBER,2022  DECEMBER,2022  \n",
       "0           NaN            NaN            NaN  \n",
       "1           NaN            NaN            NaN  \n",
       "2           NaN            NaN            NaN  \n",
       "3           NaN            NaN            NaN  \n",
       "4           NaN            NaN            NaN  \n",
       "5           NaN            NaN            NaN  \n",
       "6           NaN            NaN            NaN  \n",
       "7           NaN            NaN            NaN  \n",
       "8           NaN            NaN            NaN  \n",
       "9           NaN            NaN            NaN  "
      ]
     },
     "execution_count": 55,
     "metadata": {},
     "output_type": "execute_result"
    }
   ],
   "source": [
    "ds.head(10)"
   ]
  },
  {
   "cell_type": "code",
   "execution_count": 57,
   "id": "53c32438",
   "metadata": {},
   "outputs": [
    {
     "data": {
      "text/plain": [
       "(43, 8)"
      ]
     },
     "execution_count": 57,
     "metadata": {},
     "output_type": "execute_result"
    }
   ],
   "source": [
    "ds.shape"
   ]
  },
  {
   "cell_type": "code",
   "execution_count": 58,
   "id": "7086e4ab",
   "metadata": {},
   "outputs": [
    {
     "data": {
      "text/plain": [
       "<bound method DataFrame.info of                   Unnamed: 0 JUNE,2022  JULY,2022 AUGUST,2022  SEPTEMBER,2022  \\\n",
       "0                       Name      Joma        NaN        Joma             NaN   \n",
       "1              Sumaiya Akter      20tk        NaN        20tk             NaN   \n",
       "2     Md: Nadim  Islam Nayan      20tk        NaN        20tk             NaN   \n",
       "3      Md Abdur Rahman Bijoy      20tk        NaN        20tk             NaN   \n",
       "4             Shariful Islam      20tk        NaN        20tk             NaN   \n",
       "5           Md. Tusher Imran      20tk        NaN        20tk             NaN   \n",
       "6            Bahauddin Bahar      20tk        NaN        20tk             NaN   \n",
       "7                Sathi Akter      20tk        NaN        20tk             NaN   \n",
       "8                   MD Arman      20tk        NaN        20tk             NaN   \n",
       "9           Md Hasibul Hasan      20tk        NaN        20tk             NaN   \n",
       "10     Satsato Roy Jagannath      20tk        NaN        20tk             NaN   \n",
       "11           Md Asik Hossain      20tk        NaN        20tk             NaN   \n",
       "12                 Md. Aolad       NaN        NaN         NaN             NaN   \n",
       "13     Hasan Shariar Shawron      20tk        NaN        20tk             NaN   \n",
       "14           Rahima Ferdaous      20tk        NaN        20tk             NaN   \n",
       "15     Cidratul Muntaha Joty      20tk        NaN        20tk             NaN   \n",
       "16        Monirul Islam Roni      20tk        NaN         NaN             NaN   \n",
       "17             MD. Robin Mia      20tk        NaN         NaN             NaN   \n",
       "18             Pritha Halder      20tk        NaN        20tk             NaN   \n",
       "19              Eshita Akter       NaN        NaN        20tk             NaN   \n",
       "20  Sharmistha Biswas Swarna      20tk        NaN        20tk             NaN   \n",
       "21       Sumona Akter Mahida      20tk        NaN        20tk             NaN   \n",
       "22              Akash Biswas      20tk        NaN        20tk             NaN   \n",
       "23     Tashmina Ahmed Shormy      20tk        NaN        20tk             NaN   \n",
       "24              Nowsin Afroj      20tk        NaN        20tk             NaN   \n",
       "25           Md. Arifuzzaman      20tk        NaN        20tk             NaN   \n",
       "26      Farzana Tabassum Mim      20tk        NaN        20tk             NaN   \n",
       "27   Md. Torikul islam neous       NaN        NaN         NaN             NaN   \n",
       "28            Afia Anjum Mim      20tk        NaN        20tk             NaN   \n",
       "29               Navid ahmed       NaN        NaN         NaN             NaN   \n",
       "30                Afsan Sami      20tk        NaN         NaN             NaN   \n",
       "31          Md Razibul islam       NaN        NaN         NaN             NaN   \n",
       "32            Khondokar Asif      20tk        NaN        20tk             NaN   \n",
       "33        Sayeeda Afrin Dola      20tk        NaN         NaN             NaN   \n",
       "34                       NaN       NaN        NaN         NaN             NaN   \n",
       "35                       NaN       NaN        NaN         NaN             NaN   \n",
       "36                       NaN       NaN        NaN         NaN             NaN   \n",
       "37                       NaN       NaN        NaN         NaN             NaN   \n",
       "38                       NaN       NaN        NaN         NaN             NaN   \n",
       "39               Expenditure       NaN        NaN         NaN             NaN   \n",
       "40      Assignment cover 2ta        10        NaN         NaN             NaN   \n",
       "41      Assignment cover 1ta         5        NaN         NaN             NaN   \n",
       "42               Flexi(July)        50        NaN         NaN             NaN   \n",
       "\n",
       "    OCTOBER,2022  NOVEMBER,2022  DECEMBER,2022  \n",
       "0            NaN            NaN            NaN  \n",
       "1            NaN            NaN            NaN  \n",
       "2            NaN            NaN            NaN  \n",
       "3            NaN            NaN            NaN  \n",
       "4            NaN            NaN            NaN  \n",
       "5            NaN            NaN            NaN  \n",
       "6            NaN            NaN            NaN  \n",
       "7            NaN            NaN            NaN  \n",
       "8            NaN            NaN            NaN  \n",
       "9            NaN            NaN            NaN  \n",
       "10           NaN            NaN            NaN  \n",
       "11           NaN            NaN            NaN  \n",
       "12           NaN            NaN            NaN  \n",
       "13           NaN            NaN            NaN  \n",
       "14           NaN            NaN            NaN  \n",
       "15           NaN            NaN            NaN  \n",
       "16           NaN            NaN            NaN  \n",
       "17           NaN            NaN            NaN  \n",
       "18           NaN            NaN            NaN  \n",
       "19           NaN            NaN            NaN  \n",
       "20           NaN            NaN            NaN  \n",
       "21           NaN            NaN            NaN  \n",
       "22           NaN            NaN            NaN  \n",
       "23           NaN            NaN            NaN  \n",
       "24           NaN            NaN            NaN  \n",
       "25           NaN            NaN            NaN  \n",
       "26           NaN            NaN            NaN  \n",
       "27           NaN            NaN            NaN  \n",
       "28           NaN            NaN            NaN  \n",
       "29           NaN            NaN            NaN  \n",
       "30           NaN            NaN            NaN  \n",
       "31           NaN            NaN            NaN  \n",
       "32           NaN            NaN            NaN  \n",
       "33           NaN            NaN            NaN  \n",
       "34           NaN            NaN            NaN  \n",
       "35           NaN            NaN            NaN  \n",
       "36           NaN            NaN            NaN  \n",
       "37           NaN            NaN            NaN  \n",
       "38           NaN            NaN            NaN  \n",
       "39           NaN            NaN            NaN  \n",
       "40           NaN            NaN            NaN  \n",
       "41           NaN            NaN            NaN  \n",
       "42           NaN            NaN            NaN  >"
      ]
     },
     "execution_count": 58,
     "metadata": {},
     "output_type": "execute_result"
    }
   ],
   "source": [
    "ds.info"
   ]
  },
  {
   "cell_type": "markdown",
   "id": "a22d98c3",
   "metadata": {},
   "source": [
    "# Operator"
   ]
  },
  {
   "cell_type": "code",
   "execution_count": 59,
   "id": "e9b35e37",
   "metadata": {},
   "outputs": [],
   "source": [
    "# Assigning Varibale\n",
    "x=12\n",
    "y=7\n",
    "z=5"
   ]
  },
  {
   "cell_type": "code",
   "execution_count": 60,
   "id": "433c011f",
   "metadata": {},
   "outputs": [
    {
     "data": {
      "text/plain": [
       "19"
      ]
     },
     "execution_count": 60,
     "metadata": {},
     "output_type": "execute_result"
    }
   ],
   "source": [
    "x+y"
   ]
  },
  {
   "cell_type": "code",
   "execution_count": 61,
   "id": "56981840",
   "metadata": {},
   "outputs": [
    {
     "data": {
      "text/plain": [
       "5"
      ]
     },
     "execution_count": 61,
     "metadata": {},
     "output_type": "execute_result"
    }
   ],
   "source": [
    "x-y"
   ]
  },
  {
   "cell_type": "code",
   "execution_count": 62,
   "id": "65d9d2b1",
   "metadata": {},
   "outputs": [
    {
     "data": {
      "text/plain": [
       "1.7142857142857142"
      ]
     },
     "execution_count": 62,
     "metadata": {},
     "output_type": "execute_result"
    }
   ],
   "source": [
    "x/y"
   ]
  },
  {
   "cell_type": "code",
   "execution_count": 67,
   "id": "1dd1dac0",
   "metadata": {},
   "outputs": [
    {
     "data": {
      "text/plain": [
       "1"
      ]
     },
     "execution_count": 67,
     "metadata": {},
     "output_type": "execute_result"
    }
   ],
   "source": [
    "x//y"
   ]
  },
  {
   "cell_type": "code",
   "execution_count": 68,
   "id": "47700a8e",
   "metadata": {},
   "outputs": [
    {
     "data": {
      "text/plain": [
       "1"
      ]
     },
     "execution_count": 68,
     "metadata": {},
     "output_type": "execute_result"
    }
   ],
   "source": [
    "import math\n",
    "math.floor(x/y)"
   ]
  },
  {
   "cell_type": "code",
   "execution_count": 63,
   "id": "f9d5d298",
   "metadata": {},
   "outputs": [
    {
     "data": {
      "text/plain": [
       "84"
      ]
     },
     "execution_count": 63,
     "metadata": {},
     "output_type": "execute_result"
    }
   ],
   "source": [
    "x*y"
   ]
  },
  {
   "cell_type": "code",
   "execution_count": 64,
   "id": "25e13e4a",
   "metadata": {},
   "outputs": [
    {
     "data": {
      "text/plain": [
       "35831808"
      ]
     },
     "execution_count": 64,
     "metadata": {},
     "output_type": "execute_result"
    }
   ],
   "source": [
    "x ** y  #12^7"
   ]
  },
  {
   "cell_type": "code",
   "execution_count": 69,
   "id": "731df94f",
   "metadata": {},
   "outputs": [
    {
     "data": {
      "text/plain": [
       "2"
      ]
     },
     "execution_count": 69,
     "metadata": {},
     "output_type": "execute_result"
    }
   ],
   "source": [
    "math.ceil(x/y)"
   ]
  },
  {
   "cell_type": "code",
   "execution_count": 70,
   "id": "b5053804",
   "metadata": {},
   "outputs": [],
   "source": [
    "list1=[1,2,3,4,5,6]"
   ]
  },
  {
   "cell_type": "code",
   "execution_count": 71,
   "id": "95eb7417",
   "metadata": {},
   "outputs": [
    {
     "data": {
      "text/plain": [
       "True"
      ]
     },
     "execution_count": 71,
     "metadata": {},
     "output_type": "execute_result"
    }
   ],
   "source": [
    "# Membership operator\n",
    "3 in list1"
   ]
  },
  {
   "cell_type": "code",
   "execution_count": 72,
   "id": "7dc24a7d",
   "metadata": {},
   "outputs": [
    {
     "data": {
      "text/plain": [
       "False"
      ]
     },
     "execution_count": 72,
     "metadata": {},
     "output_type": "execute_result"
    }
   ],
   "source": [
    "19 in list1"
   ]
  },
  {
   "cell_type": "markdown",
   "id": "db36ae97",
   "metadata": {},
   "source": [
    "## Conditional operator in Python"
   ]
  },
  {
   "cell_type": "code",
   "execution_count": 88,
   "id": "e289a7a6",
   "metadata": {},
   "outputs": [],
   "source": [
    "Dept='Statisti'"
   ]
  },
  {
   "cell_type": "code",
   "execution_count": 89,
   "id": "f490f392",
   "metadata": {},
   "outputs": [
    {
     "name": "stdout",
     "output_type": "stream",
     "text": [
      "worried!\n",
      "Department of Statistics\n"
     ]
    }
   ],
   "source": [
    "if Dept=='Statistics':\n",
    "    print('You have a great future!')\n",
    "else:\n",
    "    print('worried!')\n",
    "\n",
    "print('Department of Statistics')"
   ]
  },
  {
   "cell_type": "code",
   "execution_count": 95,
   "id": "6bdf27c2",
   "metadata": {},
   "outputs": [
    {
     "name": "stdout",
     "output_type": "stream",
     "text": [
      "y is greater than x\n",
      "Not equal\n"
     ]
    }
   ],
   "source": [
    "x=50\n",
    "y=100\n",
    "\n",
    "if x>y:\n",
    "    print('x is greater than y')\n",
    "elif y>x:\n",
    "    print('y is greater than x')\n",
    "    if x!=y:\n",
    "        print('Not equal')\n",
    "    \n",
    "else:\n",
    "    print('Out')"
   ]
  },
  {
   "cell_type": "code",
   "execution_count": 98,
   "id": "cd484bc8",
   "metadata": {},
   "outputs": [
    {
     "name": "stdout",
     "output_type": "stream",
     "text": [
      "Enter any number: 30\n",
      "30.0 Division by 5 and 2\n"
     ]
    }
   ],
   "source": [
    "num=float(input('Enter any number: '))\n",
    "if num%2==0:\n",
    "    if num%5==0:\n",
    "        print(num,'Division by 5 and 2')\n",
    "    else:\n",
    "        print('No 1')\n",
    "else:\n",
    "    print('No 2')"
   ]
  },
  {
   "cell_type": "markdown",
   "id": "28d2286b",
   "metadata": {},
   "source": [
    "# Importing Image from IPython display"
   ]
  },
  {
   "cell_type": "code",
   "execution_count": 114,
   "id": "a39cb556",
   "metadata": {},
   "outputs": [
    {
     "data": {
      "image/png": "[encoded data removed]",
      "text/plain": [
       "<IPython.core.display.Image object>"
      ]
     },
     "execution_count": 114,
     "metadata": {
      "image/png": {
       "height": 200,
       "width": 900
      }
     },
     "output_type": "execute_result"
    }
   ],
   "source": [
    "from IPython.display import Image\n",
    "Image(filename=\"C:/Users/HP/Documents/Share1.png\",width=900,height=200)"
   ]
  },
  {
   "cell_type": "code",
   "execution_count": 119,
   "id": "daaf10ad",
   "metadata": {},
   "outputs": [
    {
     "name": "stdout",
     "output_type": "stream",
     "text": [
      "Enter your unit value: 350\n",
      "amount is  2000.0\n"
     ]
    }
   ],
   "source": [
    "amount =0\n",
    "net_units = float(input('Enter your unit value: '))\n",
    "\n",
    "if net_units <= 100:\n",
    "    amount=0\n",
    "    print('amount is ',amonut)\n",
    "    \n",
    "elif net_units >100 and net_units <=200:\n",
    "    amount = (net_units - 100)*5\n",
    "    print('amount is ',amount)\n",
    "    \n",
    "elif net_units>200:\n",
    "    amount = ((net_units - 200)*10)+500\n",
    "    print('amount is ',amount)\n",
    "    "
   ]
  },
  {
   "cell_type": "markdown",
   "id": "791dd816",
   "metadata": {},
   "source": [
    "### Take value of length and breadth of rectangle from user and check if it is square or not."
   ]
  },
  {
   "cell_type": "code",
   "execution_count": 125,
   "id": "0eebb2ee",
   "metadata": {},
   "outputs": [
    {
     "name": "stdout",
     "output_type": "stream",
     "text": [
      "Enter the length: 23\n",
      "Enter the breadth: 4\n",
      "It is not square\n"
     ]
    }
   ],
   "source": [
    "length = float(input('Enter the length: '))\n",
    "breadth= float(input('Enter the breadth: '))\n",
    "\n",
    "if breadth == length :\n",
    "    print('It is square')\n",
    "    \n",
    "else:\n",
    "    print('It is not square')\n"
   ]
  },
  {
   "cell_type": "markdown",
   "id": "7ab8df5d",
   "metadata": {},
   "source": [
    "### Take three int values from user and print greatest among them"
   ]
  },
  {
   "cell_type": "code",
   "execution_count": null,
   "id": "10bdcba8",
   "metadata": {},
   "outputs": [],
   "source": [
    "num1=int(input('Enter the 1st number: '))\n",
    "num2=int(input('Enter the 2nd number: '))\n",
    "num3=int(input('Enter the 3rd number: '))\n",
    "\n",
    "if (num1>num2) and (num1>num3):\n",
    "    print('The greatest number is: ',num1)\n",
    "\n",
    "elif (num2>num1) and (num2>num3):\n",
    "    print('The greatest number is: ',num2)\n",
    "    \n",
    "else:\n",
    "    print('The greatest number is: ',num3)"
   ]
  },
  {
   "cell_type": "markdown",
   "id": "ebfe9828",
   "metadata": {},
   "source": [
    "### A student will not be allowed to sit in exam if his/her attendence is less than 75%"
   ]
  },
  {
   "cell_type": "code",
   "execution_count": 3,
   "id": "791a8e6e",
   "metadata": {},
   "outputs": [
    {
     "name": "stdout",
     "output_type": "stream",
     "text": [
      "Number of class held: 30\n",
      "Number of class attend: 10\n",
      "you are not allowed\n"
     ]
    }
   ],
   "source": [
    "held = int(input('Number of class held: '))\n",
    "attendened = int(input('Number of class attend: '))\n",
    "\n",
    "attended_ratio = (attendened/held)*100\n",
    "attended_ratio\n",
    "\n",
    "if attended_ratio >= 75:\n",
    "    print('You are allowed')\n",
    "else:\n",
    "    print('you are not allowed')"
   ]
  },
  {
   "cell_type": "markdown",
   "id": "64e074e8",
   "metadata": {},
   "source": [
    "### Ask user to enter marks and print the corresponding grade"
   ]
  },
  {
   "cell_type": "code",
   "execution_count": 60,
   "id": "815aadd3",
   "metadata": {},
   "outputs": [
    {
     "name": "stdout",
     "output_type": "stream",
     "text": [
      "Enter your marks: 67\n",
      "You have got B+,3.25\n"
     ]
    }
   ],
   "source": [
    "mark= float(input('Enter your marks: '))\n",
    "if mark>=80:\n",
    "    print('You have got A+,4.00')\n",
    "elif mark>=75 and marks<=79:\n",
    "    print('You have got A,3.75')\n",
    "elif (mark>=70) and (marks<=74):\n",
    "    print('You have got A-,3.50')\n",
    "elif (mark>=65) and (marks<=69):\n",
    "    print('You have got B+,3.25')\n",
    "elif (mark>=60) and (marks<=64):\n",
    "    print('You have got B,3.00')\n",
    "elif (mark>=55) and (marks<=59):\n",
    "    print('You have got B-,2.75')\n",
    "elif (mark>=50) and (marks<=54):\n",
    "    print('You have got C+,2.50')\n",
    "elif (mark>=45) and (marks<=49):\n",
    "    print('You have got C,2.25')\n",
    "elif (mark>=40) and (marks<=44):\n",
    "    print('You have got D,2.00')\n",
    "    \n",
    "else:\n",
    "    print('You are failed!,F')\n",
    "     "
   ]
  },
  {
   "cell_type": "markdown",
   "id": "de06a89e",
   "metadata": {},
   "source": [
    "# for loop"
   ]
  },
  {
   "cell_type": "code",
   "execution_count": 28,
   "id": "c56debb0",
   "metadata": {},
   "outputs": [],
   "source": [
    "data='PYTHON'"
   ]
  },
  {
   "cell_type": "code",
   "execution_count": 31,
   "id": "fcffe790",
   "metadata": {},
   "outputs": [
    {
     "name": "stdout",
     "output_type": "stream",
     "text": [
      "P Hasib\n",
      "Y Hasib\n",
      "T Hasib\n",
      "H Hasib\n",
      "O Hasib\n",
      "N Hasib\n"
     ]
    }
   ],
   "source": [
    "for x in data:\n",
    "    print(x,'Hasib')"
   ]
  },
  {
   "cell_type": "code",
   "execution_count": 16,
   "id": "7b2e4a1b",
   "metadata": {},
   "outputs": [
    {
     "name": "stdout",
     "output_type": "stream",
     "text": [
      "P\n",
      "Y\n",
      "T\n",
      "H\n",
      "O\n",
      "N\n"
     ]
    }
   ],
   "source": [
    "range(10)\n",
    "for x in range(len(data)):\n",
    "    print(data[x])"
   ]
  },
  {
   "cell_type": "code",
   "execution_count": 21,
   "id": "b79fa798",
   "metadata": {
    "scrolled": true
   },
   "outputs": [
    {
     "name": "stdout",
     "output_type": "stream",
     "text": [
      "I 0\n",
      "love 1\n",
      "my 2\n",
      "dept 3\n",
      "so 4\n",
      "much 5\n"
     ]
    }
   ],
   "source": [
    "data2='I love my dept so much'\n",
    "data2= data2.split()\n",
    "for i in range(len(data2)):\n",
    "    print(data2[i],i)"
   ]
  },
  {
   "cell_type": "code",
   "execution_count": 42,
   "id": "7d999bdc",
   "metadata": {},
   "outputs": [
    {
     "name": "stdout",
     "output_type": "stream",
     "text": [
      "total 135\n"
     ]
    }
   ],
   "source": [
    "n=[2,3,4,55,66,5]\n",
    "total=0\n",
    "for x in n:\n",
    "    total=total+x\n",
    "print('total',total)"
   ]
  },
  {
   "cell_type": "code",
   "execution_count": 54,
   "id": "261cf147",
   "metadata": {},
   "outputs": [
    {
     "name": "stdout",
     "output_type": "stream",
     "text": [
      "Data Science 4\n",
      "Data Science 6\n",
      "Data Science 8\n",
      "Data Science 10\n",
      "Data Science 12\n",
      "Data Science 14\n",
      "Data Science 16\n",
      "Data Science 18\n"
     ]
    }
   ],
   "source": [
    "for i in range(4,20,2):\n",
    "    print('Data Science',i)"
   ]
  },
  {
   "cell_type": "code",
   "execution_count": 57,
   "id": "2d108299",
   "metadata": {},
   "outputs": [
    {
     "name": "stdout",
     "output_type": "stream",
     "text": [
      "Data Science 100\n",
      "Data Science 95\n",
      "Data Science 90\n",
      "Data Science 85\n",
      "Data Science 80\n",
      "Data Science 75\n",
      "Data Science 70\n",
      "Data Science 65\n",
      "Data Science 60\n",
      "Data Science 55\n",
      "Data Science 50\n",
      "Data Science 45\n",
      "Data Science 40\n",
      "Data Science 35\n",
      "Data Science 30\n",
      "Data Science 25\n"
     ]
    }
   ],
   "source": [
    "for i in range(100,20,-5):\n",
    "    print('Data Science',i)"
   ]
  },
  {
   "cell_type": "markdown",
   "id": "1137e8e6",
   "metadata": {},
   "source": [
    "# While loop"
   ]
  },
  {
   "cell_type": "code",
   "execution_count": 61,
   "id": "fcdbc72d",
   "metadata": {},
   "outputs": [
    {
     "name": "stdout",
     "output_type": "stream",
     "text": [
      "University of Barishal\n",
      "University of Barishal\n",
      "University of Barishal\n",
      "University of Barishal\n",
      "University of Barishal\n",
      "University of Barishal\n",
      "University of Barishal\n",
      "University of Barishal\n",
      "University of Barishal\n",
      "University of Barishal\n"
     ]
    }
   ],
   "source": [
    "count = 0\n",
    "while (count<10):\n",
    "    count = count+1\n",
    "    print('University of Barishal')"
   ]
  },
  {
   "cell_type": "code",
   "execution_count": 62,
   "id": "ee9dcb7a",
   "metadata": {},
   "outputs": [
    {
     "name": "stdout",
     "output_type": "stream",
     "text": [
      "P\n",
      "Y\n",
      "T\n",
      "H\n",
      "O\n",
      "N\n"
     ]
    }
   ],
   "source": [
    "index=0\n",
    "while index<len(data):\n",
    "    print(data[index])\n",
    "    index=index+1"
   ]
  },
  {
   "cell_type": "code",
   "execution_count": 63,
   "id": "f7b6bfc1",
   "metadata": {},
   "outputs": [
    {
     "name": "stdout",
     "output_type": "stream",
     "text": [
      "0 2\n",
      "1 5\n",
      "2 9\n",
      "3 64\n",
      "4 130\n",
      "5 135\n"
     ]
    }
   ],
   "source": [
    "n=[2,3,4,55,66,5]\n",
    "total=0\n",
    "index=0\n",
    "while(index<len(n)):\n",
    "    total=total+n[index]\n",
    "    print(index,total)\n",
    "    index += 1"
   ]
  },
  {
   "cell_type": "code",
   "execution_count": 64,
   "id": "e48e671b",
   "metadata": {},
   "outputs": [
    {
     "name": "stdout",
     "output_type": "stream",
     "text": [
      "1 2 3 4 \n",
      "\n",
      "1 2 3 4 \n",
      "\n",
      "1 2 3 4 \n",
      "\n",
      "1 2 3 4 \n",
      "\n"
     ]
    }
   ],
   "source": [
    "num = [1,2,3,4]\n",
    "for ele in num:\n",
    "    index=0\n",
    "    while index<len(num):\n",
    "        print(num[index],end=' ')\n",
    "        index=index+1\n",
    "    print('\\n')"
   ]
  },
  {
   "cell_type": "markdown",
   "id": "fdc19183",
   "metadata": {},
   "source": [
    "# List in Python"
   ]
  },
  {
   "cell_type": "code",
   "execution_count": 80,
   "id": "4333e2f6",
   "metadata": {},
   "outputs": [],
   "source": [
    "lst=[3,4,5,6,23,3,2,5,6,4,6]"
   ]
  },
  {
   "cell_type": "code",
   "execution_count": 81,
   "id": "6070c062",
   "metadata": {},
   "outputs": [
    {
     "data": {
      "text/plain": [
       "[3, 4, 5]"
      ]
     },
     "execution_count": 81,
     "metadata": {},
     "output_type": "execute_result"
    }
   ],
   "source": [
    "lst[0:3]"
   ]
  },
  {
   "cell_type": "code",
   "execution_count": 82,
   "id": "f51b96ec",
   "metadata": {},
   "outputs": [
    {
     "data": {
      "text/plain": [
       "[3, 4, 'Hasib', 6, 23, 3, 2, 5, 6, 4, 6]"
      ]
     },
     "execution_count": 82,
     "metadata": {},
     "output_type": "execute_result"
    }
   ],
   "source": [
    "lst[2]='Hasib'  #replace\n",
    "lst"
   ]
  },
  {
   "cell_type": "code",
   "execution_count": 83,
   "id": "21071ce1",
   "metadata": {},
   "outputs": [
    {
     "data": {
      "text/plain": [
       "[3, 4, 'Hasib', 6, 23, 3, 2, 5, 6, 4]"
      ]
     },
     "execution_count": 83,
     "metadata": {},
     "output_type": "execute_result"
    }
   ],
   "source": [
    "lst.pop()    #removing element\n",
    "lst"
   ]
  },
  {
   "cell_type": "code",
   "execution_count": 84,
   "id": "77bdc5ad",
   "metadata": {},
   "outputs": [
    {
     "data": {
      "text/plain": [
       "[3, 'Hasib', 6, 23, 3, 2, 5, 6, 4]"
      ]
     },
     "execution_count": 84,
     "metadata": {},
     "output_type": "execute_result"
    }
   ],
   "source": [
    "lst.pop(1)\n",
    "lst"
   ]
  },
  {
   "cell_type": "code",
   "execution_count": 86,
   "id": "f429b339",
   "metadata": {},
   "outputs": [
    {
     "data": {
      "text/plain": [
       "['Hasib', 12, 23, 54, 66, (2, 4, 6, 8), 'Hh']"
      ]
     },
     "execution_count": 86,
     "metadata": {},
     "output_type": "execute_result"
    }
   ],
   "source": [
    "#Creating List using List Constructor\n",
    "lst2 = list(('Hasib',12,23,54,66,(2,4,6,8),'Hh'))\n",
    "lst2"
   ]
  },
  {
   "cell_type": "code",
   "execution_count": 88,
   "id": "f59ebb94",
   "metadata": {},
   "outputs": [
    {
     "data": {
      "text/plain": [
       "6"
      ]
     },
     "execution_count": 88,
     "metadata": {},
     "output_type": "execute_result"
    }
   ],
   "source": [
    "lst2[5][2]"
   ]
  },
  {
   "cell_type": "code",
   "execution_count": 90,
   "id": "414ac89a",
   "metadata": {},
   "outputs": [
    {
     "name": "stdout",
     "output_type": "stream",
     "text": [
      "Enter your total index: 3\n",
      "4\n",
      "5\n",
      "6\n",
      "[4, 5, 6]\n"
     ]
    }
   ],
   "source": [
    "#Input list from user\n",
    "lst3=[]\n",
    "n = int(input('Enter your total index: '))\n",
    "for i in range(n):\n",
    "    new = int(input())\n",
    "    lst3.append(new)\n",
    "print(lst3)"
   ]
  },
  {
   "cell_type": "markdown",
   "id": "de74dd03",
   "metadata": {},
   "source": [
    "## List function"
   ]
  },
  {
   "cell_type": "markdown",
   "id": "6152bc9c",
   "metadata": {},
   "source": [
    "## Copy()"
   ]
  },
  {
   "cell_type": "code",
   "execution_count": 99,
   "id": "67019531",
   "metadata": {},
   "outputs": [
    {
     "data": {
      "text/plain": [
       "[3, 'Hasib', 6, 23, 3, 2, 5, 6, 4]"
      ]
     },
     "execution_count": 99,
     "metadata": {},
     "output_type": "execute_result"
    }
   ],
   "source": [
    "lst4=lst  #if we update lst,lst4 will also update.\n",
    "lst4"
   ]
  },
  {
   "cell_type": "code",
   "execution_count": 102,
   "id": "296bdc4d",
   "metadata": {},
   "outputs": [
    {
     "data": {
      "text/plain": [
       "[3, 'Hasib', 6, 23, 3, 2, 5, 6, 4]"
      ]
     },
     "execution_count": 102,
     "metadata": {},
     "output_type": "execute_result"
    }
   ],
   "source": [
    "lst5=lst.copy() #if we update lst,but lst4 will not update.\n",
    "lst5"
   ]
  },
  {
   "cell_type": "markdown",
   "id": "faf99e68",
   "metadata": {},
   "source": [
    "## Append()"
   ]
  },
  {
   "cell_type": "code",
   "execution_count": 103,
   "id": "3a4b6526",
   "metadata": {},
   "outputs": [
    {
     "data": {
      "text/plain": [
       "[3, 'Hasib', 6, 23, 3, 2, 5, 6, 4, 23]"
      ]
     },
     "execution_count": 103,
     "metadata": {},
     "output_type": "execute_result"
    }
   ],
   "source": [
    "lst5.append(23)\n",
    "lst5"
   ]
  },
  {
   "cell_type": "code",
   "execution_count": 104,
   "id": "15f7c8dd",
   "metadata": {},
   "outputs": [
    {
     "data": {
      "text/plain": [
       "[3, 'Hasib', 6, 23, 3, 2, 5, 6, 4, 23, {2, 3, 4, 6}]"
      ]
     },
     "execution_count": 104,
     "metadata": {},
     "output_type": "execute_result"
    }
   ],
   "source": [
    "sett={2,3,4,6}          #append() takes value same to same.[list or set/anything]\n",
    "lst5.append(sett)\n",
    "lst5\n"
   ]
  },
  {
   "cell_type": "markdown",
   "id": "23936d11",
   "metadata": {},
   "source": [
    "## Extend()"
   ]
  },
  {
   "cell_type": "code",
   "execution_count": 105,
   "id": "251c3274",
   "metadata": {},
   "outputs": [
    {
     "data": {
      "text/plain": [
       "[3, 'Hasib', 6, 23, 3, 2, 5, 6, 4, 23, {2, 3, 4, 6}, 2, 3, 4, 6]"
      ]
     },
     "execution_count": 105,
     "metadata": {},
     "output_type": "execute_result"
    }
   ],
   "source": [
    "lst5.extend(sett)      #Extend() takes value separately.\n",
    "lst5"
   ]
  },
  {
   "cell_type": "markdown",
   "id": "b507316e",
   "metadata": {},
   "source": [
    "## Insert()"
   ]
  },
  {
   "cell_type": "code",
   "execution_count": 106,
   "id": "89e21dbd",
   "metadata": {},
   "outputs": [
    {
     "data": {
      "text/plain": [
       "['MD', 3, 'Hasib', 6, 23, 3, 2, 5, 6, 4, 23, {2, 3, 4, 6}, 2, 3, 4, 6]"
      ]
     },
     "execution_count": 106,
     "metadata": {},
     "output_type": "execute_result"
    }
   ],
   "source": [
    "#Adding value\n",
    "lst5.insert(0,'MD')\n",
    "lst5"
   ]
  },
  {
   "cell_type": "markdown",
   "id": "c866468f",
   "metadata": {},
   "source": [
    "## Index()"
   ]
  },
  {
   "cell_type": "code",
   "execution_count": 107,
   "id": "d3781cac",
   "metadata": {},
   "outputs": [
    {
     "data": {
      "text/plain": [
       "11"
      ]
     },
     "execution_count": 107,
     "metadata": {},
     "output_type": "execute_result"
    }
   ],
   "source": [
    "lst5.index({2, 3, 4, 6})"
   ]
  },
  {
   "cell_type": "markdown",
   "id": "1d40beaf",
   "metadata": {},
   "source": [
    "## count()"
   ]
  },
  {
   "cell_type": "code",
   "execution_count": 108,
   "id": "4aa721a2",
   "metadata": {},
   "outputs": [
    {
     "data": {
      "text/plain": [
       "3"
      ]
     },
     "execution_count": 108,
     "metadata": {},
     "output_type": "execute_result"
    }
   ],
   "source": [
    "lst5.count(3)"
   ]
  },
  {
   "cell_type": "markdown",
   "id": "71af5b6a",
   "metadata": {},
   "source": [
    "## Sort()"
   ]
  },
  {
   "cell_type": "code",
   "execution_count": 31,
   "id": "a3276c47",
   "metadata": {},
   "outputs": [
    {
     "data": {
      "text/plain": [
       "[2, 4, 21, 22, 23, 23, 32, 33, 44, 56]"
      ]
     },
     "execution_count": 31,
     "metadata": {},
     "output_type": "execute_result"
    }
   ],
   "source": [
    "lst6=[23,44,22,32,21,2,4,56,33,23]\n",
    "lst6.sort()\n",
    "lst6"
   ]
  },
  {
   "cell_type": "markdown",
   "id": "cf30aa92",
   "metadata": {},
   "source": [
    "## Reverse()"
   ]
  },
  {
   "cell_type": "code",
   "execution_count": 32,
   "id": "48ec9a79",
   "metadata": {},
   "outputs": [
    {
     "data": {
      "text/plain": [
       "[56, 44, 33, 32, 23, 23, 22, 21, 4, 2]"
      ]
     },
     "execution_count": 32,
     "metadata": {},
     "output_type": "execute_result"
    }
   ],
   "source": [
    "lst6.reverse()\n",
    "lst6"
   ]
  },
  {
   "cell_type": "markdown",
   "id": "2c1e2d2a",
   "metadata": {},
   "source": [
    "## Remove()"
   ]
  },
  {
   "cell_type": "code",
   "execution_count": 33,
   "id": "b838601d",
   "metadata": {},
   "outputs": [
    {
     "data": {
      "text/plain": [
       "[56, 44, 33, 32, 23, 22, 21, 4, 2]"
      ]
     },
     "execution_count": 33,
     "metadata": {},
     "output_type": "execute_result"
    }
   ],
   "source": [
    "lst6.remove(23)\n",
    "lst6"
   ]
  },
  {
   "cell_type": "markdown",
   "id": "dbcc1b2a",
   "metadata": {},
   "source": [
    "## pop()"
   ]
  },
  {
   "cell_type": "code",
   "execution_count": 123,
   "id": "5982a1f3",
   "metadata": {},
   "outputs": [
    {
     "data": {
      "text/plain": [
       "[56, 44, 33, 32, 22, 21, 4]"
      ]
     },
     "execution_count": 123,
     "metadata": {},
     "output_type": "execute_result"
    }
   ],
   "source": [
    "lst6.pop()\n",
    "lst6"
   ]
  },
  {
   "cell_type": "code",
   "execution_count": 124,
   "id": "e99dcd58",
   "metadata": {},
   "outputs": [
    {
     "data": {
      "text/plain": [
       "[44, 33, 32, 22, 21, 4]"
      ]
     },
     "execution_count": 124,
     "metadata": {},
     "output_type": "execute_result"
    }
   ],
   "source": [
    "del lst6[0]\n",
    "lst6"
   ]
  },
  {
   "cell_type": "markdown",
   "id": "d30ea8c6",
   "metadata": {},
   "source": [
    "## clear()"
   ]
  },
  {
   "cell_type": "code",
   "execution_count": 126,
   "id": "aff39dda",
   "metadata": {},
   "outputs": [
    {
     "data": {
      "text/plain": [
       "[]"
      ]
     },
     "execution_count": 126,
     "metadata": {},
     "output_type": "execute_result"
    }
   ],
   "source": [
    "lst6.clear()\n",
    "lst6\n"
   ]
  },
  {
   "cell_type": "code",
   "execution_count": 127,
   "id": "cc2fda5b",
   "metadata": {},
   "outputs": [
    {
     "data": {
      "text/plain": [
       "list"
      ]
     },
     "execution_count": 127,
     "metadata": {},
     "output_type": "execute_result"
    }
   ],
   "source": [
    "type(lst6)"
   ]
  },
  {
   "cell_type": "markdown",
   "id": "76d2ef69",
   "metadata": {},
   "source": [
    "## List Comprehension: Eiegant Way to create Lists"
   ]
  },
  {
   "cell_type": "code",
   "execution_count": 1,
   "id": "ec9a0ef5",
   "metadata": {},
   "outputs": [
    {
     "data": {
      "text/plain": [
       "[0, 1, 2, 3, 4, 5, 6, 7, 8, 9]"
      ]
     },
     "execution_count": 1,
     "metadata": {},
     "output_type": "execute_result"
    }
   ],
   "source": [
    "list1=[]\n",
    "for x in range(10):\n",
    "    list1.append(x)\n",
    "list1    "
   ]
  },
  {
   "cell_type": "code",
   "execution_count": 2,
   "id": "69e4fdc3",
   "metadata": {},
   "outputs": [
    {
     "data": {
      "text/plain": [
       "[0, 1, 2, 3, 4, 5, 6, 7, 8, 9, 10]"
      ]
     },
     "execution_count": 2,
     "metadata": {},
     "output_type": "execute_result"
    }
   ],
   "source": [
    "list2=[x for x in range(11)]\n",
    "list2"
   ]
  },
  {
   "cell_type": "code",
   "execution_count": 5,
   "id": "96944c68",
   "metadata": {},
   "outputs": [
    {
     "data": {
      "text/plain": [
       "[0, 2, 4, 6, 8]"
      ]
     },
     "execution_count": 5,
     "metadata": {},
     "output_type": "execute_result"
    }
   ],
   "source": [
    "list3=[]\n",
    "for x in range(10):\n",
    "    if x%2 == 0:\n",
    "        list3.append(x)\n",
    "    \n",
    "list3 "
   ]
  },
  {
   "cell_type": "code",
   "execution_count": 6,
   "id": "94a2e28b",
   "metadata": {},
   "outputs": [
    {
     "data": {
      "text/plain": [
       "[0, 2, 4, 6, 8, 10]"
      ]
     },
     "execution_count": 6,
     "metadata": {},
     "output_type": "execute_result"
    }
   ],
   "source": [
    "list4=[x for x in range(11) if x%2 == 0]\n",
    "list4"
   ]
  },
  {
   "cell_type": "code",
   "execution_count": 7,
   "id": "ba0e4cb4",
   "metadata": {},
   "outputs": [
    {
     "data": {
      "text/plain": [
       "[1, 3, 5, 7, 9]"
      ]
     },
     "execution_count": 7,
     "metadata": {},
     "output_type": "execute_result"
    }
   ],
   "source": [
    "list5=[x for x in range(11) if x%2 == 1]\n",
    "list5"
   ]
  },
  {
   "cell_type": "code",
   "execution_count": 16,
   "id": "2cb43bfd",
   "metadata": {},
   "outputs": [
    {
     "data": {
      "text/plain": [
       "[3, 27, 2187, 19683]"
      ]
     },
     "execution_count": 16,
     "metadata": {},
     "output_type": "execute_result"
    }
   ],
   "source": [
    "list6=[3 ** x for x in list5 if x != 5]\n",
    "list6"
   ]
  },
  {
   "cell_type": "code",
   "execution_count": 17,
   "id": "9c2f1c27",
   "metadata": {},
   "outputs": [
    {
     "data": {
      "text/plain": [
       "True"
      ]
     },
     "execution_count": 17,
     "metadata": {},
     "output_type": "execute_result"
    }
   ],
   "source": [
    "27 in list6"
   ]
  },
  {
   "cell_type": "markdown",
   "id": "ad12752d",
   "metadata": {},
   "source": [
    "# Tuple() in Python"
   ]
  },
  {
   "cell_type": "code",
   "execution_count": 26,
   "id": "b8a99e49",
   "metadata": {},
   "outputs": [],
   "source": [
    "tup1 = ()"
   ]
  },
  {
   "cell_type": "code",
   "execution_count": 33,
   "id": "f6a349d9",
   "metadata": {},
   "outputs": [
    {
     "data": {
      "text/plain": [
       "('Md', 'Hasibul', 10, 7, 6, [12, 43, 54], True, {1, 2, 3, 7, 56})"
      ]
     },
     "execution_count": 33,
     "metadata": {},
     "output_type": "execute_result"
    }
   ],
   "source": [
    "tup1=('Md','Hasibul',10,7,6,[12,43,54],True,{1,2,56,7,3})\n",
    "tup1"
   ]
  },
  {
   "cell_type": "code",
   "execution_count": 32,
   "id": "8660376b",
   "metadata": {},
   "outputs": [
    {
     "data": {
      "text/plain": [
       "10"
      ]
     },
     "execution_count": 32,
     "metadata": {},
     "output_type": "execute_result"
    }
   ],
   "source": [
    "tup1[2]"
   ]
  },
  {
   "cell_type": "code",
   "execution_count": 36,
   "id": "31ac0d68",
   "metadata": {},
   "outputs": [
    {
     "data": {
      "text/plain": [
       "['Md', 'Hasibul', 10, 7, 6, [12, 43, 54], True, {1, 2, 3, 7, 56}]"
      ]
     },
     "execution_count": 36,
     "metadata": {},
     "output_type": "execute_result"
    }
   ],
   "source": [
    "#tuple to list\n",
    "lst7=list(tup1)\n",
    "lst7"
   ]
  },
  {
   "cell_type": "code",
   "execution_count": 38,
   "id": "ca92ffc4",
   "metadata": {},
   "outputs": [
    {
     "data": {
      "text/plain": [
       "['Md', 'Hasibul', 10, 7, 6, [12, 43, 54], True, {1, 2, 3, 7, 56}, 'Sirajganj']"
      ]
     },
     "execution_count": 38,
     "metadata": {},
     "output_type": "execute_result"
    }
   ],
   "source": [
    "lst7.append('Sirajganj')\n",
    "lst7"
   ]
  },
  {
   "cell_type": "code",
   "execution_count": 39,
   "id": "44d553da",
   "metadata": {},
   "outputs": [],
   "source": [
    "tup4=(1,2)"
   ]
  },
  {
   "cell_type": "code",
   "execution_count": 41,
   "id": "56d2a951",
   "metadata": {},
   "outputs": [
    {
     "data": {
      "text/plain": [
       "('Md', 'Hasibul', 10, 7, 6, [12, 43, 54], True, {1, 2, 3, 7, 56}, 1, 2)"
      ]
     },
     "execution_count": 41,
     "metadata": {},
     "output_type": "execute_result"
    }
   ],
   "source": [
    "tup1+tup4"
   ]
  },
  {
   "cell_type": "code",
   "execution_count": 46,
   "id": "31800d38",
   "metadata": {},
   "outputs": [
    {
     "data": {
      "text/plain": [
       "(1, 2, 1, 2, 1, 2, 1, 2, 1, 2, 1, 2)"
      ]
     },
     "execution_count": 46,
     "metadata": {},
     "output_type": "execute_result"
    }
   ],
   "source": [
    "l=tup4*6\n",
    "l"
   ]
  },
  {
   "cell_type": "code",
   "execution_count": 47,
   "id": "eed73518",
   "metadata": {},
   "outputs": [
    {
     "data": {
      "text/plain": [
       "6"
      ]
     },
     "execution_count": 47,
     "metadata": {},
     "output_type": "execute_result"
    }
   ],
   "source": [
    "l.count(2)"
   ]
  },
  {
   "cell_type": "code",
   "execution_count": 48,
   "id": "ac2ef40e",
   "metadata": {},
   "outputs": [
    {
     "name": "stdout",
     "output_type": "stream",
     "text": [
      "1\n",
      "2\n",
      "1\n",
      "2\n",
      "1\n",
      "2\n",
      "1\n",
      "2\n",
      "1\n",
      "2\n",
      "1\n",
      "2\n"
     ]
    }
   ],
   "source": [
    "for i in l:\n",
    "    print(i)"
   ]
  },
  {
   "cell_type": "markdown",
   "id": "b5a7b0bb",
   "metadata": {},
   "source": [
    "# Set in Python"
   ]
  },
  {
   "cell_type": "code",
   "execution_count": 3,
   "id": "06598035",
   "metadata": {},
   "outputs": [
    {
     "data": {
      "text/plain": [
       "{1, 2, 3, 'Hasib'}"
      ]
     },
     "execution_count": 3,
     "metadata": {},
     "output_type": "execute_result"
    }
   ],
   "source": [
    "set1={1,2,3,'Hasib'}\n",
    "set1"
   ]
  },
  {
   "cell_type": "code",
   "execution_count": 4,
   "id": "c45f02f8",
   "metadata": {},
   "outputs": [
    {
     "data": {
      "text/plain": [
       "set"
      ]
     },
     "execution_count": 4,
     "metadata": {},
     "output_type": "execute_result"
    }
   ],
   "source": [
    "type(set1)"
   ]
  },
  {
   "cell_type": "code",
   "execution_count": 5,
   "id": "9e0031dd",
   "metadata": {},
   "outputs": [],
   "source": [
    "set2={}"
   ]
  },
  {
   "cell_type": "code",
   "execution_count": 6,
   "id": "bca40615",
   "metadata": {},
   "outputs": [
    {
     "data": {
      "text/plain": [
       "dict"
      ]
     },
     "execution_count": 6,
     "metadata": {},
     "output_type": "execute_result"
    }
   ],
   "source": [
    "type(set2)"
   ]
  },
  {
   "cell_type": "code",
   "execution_count": 9,
   "id": "b6f69a04",
   "metadata": {},
   "outputs": [
    {
     "data": {
      "text/plain": [
       "set()"
      ]
     },
     "execution_count": 9,
     "metadata": {},
     "output_type": "execute_result"
    }
   ],
   "source": [
    "set3=set()\n",
    "set3"
   ]
  },
  {
   "cell_type": "code",
   "execution_count": 10,
   "id": "2938af05",
   "metadata": {},
   "outputs": [
    {
     "data": {
      "text/plain": [
       "set"
      ]
     },
     "execution_count": 10,
     "metadata": {},
     "output_type": "execute_result"
    }
   ],
   "source": [
    "type(set3)"
   ]
  },
  {
   "cell_type": "code",
   "execution_count": 2,
   "id": "9786547c",
   "metadata": {},
   "outputs": [],
   "source": [
    "set4={3,4,5,4,'Hasib'}"
   ]
  },
  {
   "cell_type": "code",
   "execution_count": 3,
   "id": "41a18207",
   "metadata": {},
   "outputs": [
    {
     "data": {
      "text/plain": [
       "{2, 3, 4, 5, 'Hasib'}"
      ]
     },
     "execution_count": 3,
     "metadata": {},
     "output_type": "execute_result"
    }
   ],
   "source": [
    "set4.add(2)\n",
    "set4"
   ]
  },
  {
   "cell_type": "code",
   "execution_count": 4,
   "id": "0d8e1bdf",
   "metadata": {},
   "outputs": [
    {
     "data": {
      "text/plain": [
       "{1, 2, 3, 4, 5, 6, 80, 'Hasib'}"
      ]
     },
     "execution_count": 4,
     "metadata": {},
     "output_type": "execute_result"
    }
   ],
   "source": [
    "set4.update([1,80,4,6])\n",
    "set4"
   ]
  },
  {
   "cell_type": "code",
   "execution_count": 5,
   "id": "ddf546df",
   "metadata": {},
   "outputs": [
    {
     "data": {
      "text/plain": [
       "{1, 2, 3, 5, 6, 80, 'Hasib'}"
      ]
     },
     "execution_count": 5,
     "metadata": {},
     "output_type": "execute_result"
    }
   ],
   "source": [
    "set4.remove(4)\n",
    "set4"
   ]
  },
  {
   "cell_type": "code",
   "execution_count": 6,
   "id": "cb508ebc",
   "metadata": {},
   "outputs": [
    {
     "data": {
      "text/plain": [
       "{1, 2, 3, 5, 6, 80, 'Hasib'}"
      ]
     },
     "execution_count": 6,
     "metadata": {},
     "output_type": "execute_result"
    }
   ],
   "source": [
    "set4.discard(4)   #remove ar discard same..but difference holo je value remove korbo seta variable e na thakle error dekhabe kintu discard e seta error dekhabe na..\n",
    "set4"
   ]
  },
  {
   "cell_type": "markdown",
   "id": "34651159",
   "metadata": {},
   "source": [
    "## Frozenset()"
   ]
  },
  {
   "cell_type": "code",
   "execution_count": 8,
   "id": "50330033",
   "metadata": {},
   "outputs": [],
   "source": [
    "S1={1,2,3,6,7}"
   ]
  },
  {
   "cell_type": "code",
   "execution_count": 9,
   "id": "d8523607",
   "metadata": {},
   "outputs": [
    {
     "data": {
      "text/plain": [
       "frozenset({1, 2, 3, 6, 7})"
      ]
     },
     "execution_count": 9,
     "metadata": {},
     "output_type": "execute_result"
    }
   ],
   "source": [
    "S2=frozenset(S1)\n",
    "S2"
   ]
  },
  {
   "cell_type": "code",
   "execution_count": 10,
   "id": "0dfc15ee",
   "metadata": {},
   "outputs": [
    {
     "data": {
      "text/plain": [
       "frozenset"
      ]
     },
     "execution_count": 10,
     "metadata": {},
     "output_type": "execute_result"
    }
   ],
   "source": [
    "type(S2)"
   ]
  },
  {
   "cell_type": "code",
   "execution_count": 11,
   "id": "22885af9",
   "metadata": {},
   "outputs": [
    {
     "ename": "AttributeError",
     "evalue": "'frozenset' object has no attribute 'add'",
     "output_type": "error",
     "traceback": [
      "\u001b[1;31m---------------------------------------------------------------------------\u001b[0m",
      "\u001b[1;31mAttributeError\u001b[0m                            Traceback (most recent call last)",
      "Input \u001b[1;32mIn [11]\u001b[0m, in \u001b[0;36m<cell line: 1>\u001b[1;34m()\u001b[0m\n\u001b[1;32m----> 1\u001b[0m \u001b[43mS2\u001b[49m\u001b[38;5;241;43m.\u001b[39;49m\u001b[43madd\u001b[49m(\u001b[38;5;241m8\u001b[39m)  \u001b[38;5;66;03m#frozenset immutable,so we can't change any ele in set.\u001b[39;00m\n\u001b[0;32m      2\u001b[0m S2\n",
      "\u001b[1;31mAttributeError\u001b[0m: 'frozenset' object has no attribute 'add'"
     ]
    }
   ],
   "source": [
    "S2.add(8)  #frozenset immutable,so we can't change any ele in set.\n",
    "S2"
   ]
  },
  {
   "cell_type": "code",
   "execution_count": 12,
   "id": "bfac4a4f",
   "metadata": {},
   "outputs": [
    {
     "data": {
      "text/plain": [
       "frozenset({2, 3, 4, 6, 8})"
      ]
     },
     "execution_count": 12,
     "metadata": {},
     "output_type": "execute_result"
    }
   ],
   "source": [
    "t=[2,3,4,6,8]\n",
    "S3=frozenset(t)\n",
    "S3"
   ]
  },
  {
   "cell_type": "code",
   "execution_count": 13,
   "id": "5bf6ccfa",
   "metadata": {},
   "outputs": [
    {
     "data": {
      "text/plain": [
       "frozenset"
      ]
     },
     "execution_count": 13,
     "metadata": {},
     "output_type": "execute_result"
    }
   ],
   "source": [
    "type(S3)"
   ]
  },
  {
   "cell_type": "code",
   "execution_count": 14,
   "id": "b33aebad",
   "metadata": {},
   "outputs": [
    {
     "data": {
      "text/plain": [
       "frozenset({1, 2, 3, 4, 6, 7, 8})"
      ]
     },
     "execution_count": 14,
     "metadata": {},
     "output_type": "execute_result"
    }
   ],
   "source": [
    "S2.union(S3)"
   ]
  },
  {
   "cell_type": "code",
   "execution_count": 15,
   "id": "be1ae40d",
   "metadata": {},
   "outputs": [
    {
     "data": {
      "text/plain": [
       "frozenset({2, 3, 6})"
      ]
     },
     "execution_count": 15,
     "metadata": {},
     "output_type": "execute_result"
    }
   ],
   "source": [
    "S2.intersection(S3)"
   ]
  },
  {
   "cell_type": "code",
   "execution_count": 16,
   "id": "2fb70ff2",
   "metadata": {},
   "outputs": [],
   "source": [
    "from IPython.display import Image"
   ]
  },
  {
   "cell_type": "code",
   "execution_count": 18,
   "id": "66c5834b",
   "metadata": {},
   "outputs": [
    {
     "data": {
      "image/jpeg": "[encoded data removed]",
      "text/plain": [
       "<IPython.core.display.Image object>"
      ]
     },
     "execution_count": 18,
     "metadata": {},
     "output_type": "execute_result"
    }
   ],
   "source": [
    "Image('Set function.jpg')"
   ]
  },
  {
   "cell_type": "code",
   "execution_count": 19,
   "id": "e63f6d6a",
   "metadata": {},
   "outputs": [
    {
     "data": {
      "text/plain": [
       "frozenset({1, 7})"
      ]
     },
     "execution_count": 19,
     "metadata": {},
     "output_type": "execute_result"
    }
   ],
   "source": [
    "S2.difference(S3)"
   ]
  },
  {
   "cell_type": "code",
   "execution_count": 20,
   "id": "eb698d0b",
   "metadata": {},
   "outputs": [
    {
     "data": {
      "text/plain": [
       "frozenset({4, 8})"
      ]
     },
     "execution_count": 20,
     "metadata": {},
     "output_type": "execute_result"
    }
   ],
   "source": [
    "S3.difference(S2)"
   ]
  },
  {
   "cell_type": "code",
   "execution_count": 23,
   "id": "37b75950",
   "metadata": {},
   "outputs": [
    {
     "data": {
      "text/plain": [
       "frozenset({2, 3, 4})"
      ]
     },
     "execution_count": 23,
     "metadata": {},
     "output_type": "execute_result"
    }
   ],
   "source": [
    "w={2,3,4}\n",
    "S4=frozenset(w)\n",
    "S4"
   ]
  },
  {
   "cell_type": "code",
   "execution_count": 29,
   "id": "6a6ea477",
   "metadata": {},
   "outputs": [
    {
     "data": {
      "text/plain": [
       "True"
      ]
     },
     "execution_count": 29,
     "metadata": {},
     "output_type": "execute_result"
    }
   ],
   "source": [
    "S4.issubset(S3)"
   ]
  },
  {
   "cell_type": "code",
   "execution_count": 30,
   "id": "128899c5",
   "metadata": {},
   "outputs": [
    {
     "data": {
      "text/plain": [
       "False"
      ]
     },
     "execution_count": 30,
     "metadata": {},
     "output_type": "execute_result"
    }
   ],
   "source": [
    "S3.issubset(S4)"
   ]
  },
  {
   "cell_type": "code",
   "execution_count": 32,
   "id": "b00196fb",
   "metadata": {},
   "outputs": [
    {
     "data": {
      "text/plain": [
       "True"
      ]
     },
     "execution_count": 32,
     "metadata": {},
     "output_type": "execute_result"
    }
   ],
   "source": [
    "S3.issuperset(S4)"
   ]
  },
  {
   "cell_type": "code",
   "execution_count": 33,
   "id": "0b6dead9",
   "metadata": {},
   "outputs": [],
   "source": [
    "S5={1,2,7,8}\n",
    "S6={1,2,4,5}"
   ]
  },
  {
   "cell_type": "code",
   "execution_count": 35,
   "id": "1d0b2f6a",
   "metadata": {},
   "outputs": [
    {
     "data": {
      "text/plain": [
       "{4, 5, 7, 8}"
      ]
     },
     "execution_count": 35,
     "metadata": {},
     "output_type": "execute_result"
    }
   ],
   "source": [
    "S5.symmetric_difference(S6)"
   ]
  },
  {
   "cell_type": "code",
   "execution_count": 36,
   "id": "dc5a4672",
   "metadata": {},
   "outputs": [],
   "source": [
    "S5.symmetric_difference_update(S6)"
   ]
  },
  {
   "cell_type": "code",
   "execution_count": 37,
   "id": "83fea770",
   "metadata": {},
   "outputs": [
    {
     "data": {
      "text/plain": [
       "{4, 5, 7, 8}"
      ]
     },
     "execution_count": 37,
     "metadata": {},
     "output_type": "execute_result"
    }
   ],
   "source": [
    "S5"
   ]
  },
  {
   "cell_type": "markdown",
   "id": "d22cad98",
   "metadata": {},
   "source": [
    "# Array in Python"
   ]
  },
  {
   "cell_type": "code",
   "execution_count": 3,
   "id": "052547a3",
   "metadata": {},
   "outputs": [],
   "source": [
    "import array as ar"
   ]
  },
  {
   "cell_type": "code",
   "execution_count": 39,
   "id": "7c8bb388",
   "metadata": {},
   "outputs": [],
   "source": [
    "Ar1=ar.array('f',[2,3,4,5,5.6]) #All the items same  type"
   ]
  },
  {
   "cell_type": "code",
   "execution_count": 40,
   "id": "599994e7",
   "metadata": {},
   "outputs": [
    {
     "data": {
      "text/plain": [
       "array('f', [2.0, 3.0, 4.0, 5.0, 5.599999904632568])"
      ]
     },
     "execution_count": 40,
     "metadata": {},
     "output_type": "execute_result"
    }
   ],
   "source": [
    "Ar1"
   ]
  },
  {
   "cell_type": "code",
   "execution_count": 41,
   "id": "130e4174",
   "metadata": {},
   "outputs": [
    {
     "data": {
      "text/plain": [
       "2.0"
      ]
     },
     "execution_count": 41,
     "metadata": {},
     "output_type": "execute_result"
    }
   ],
   "source": [
    "Ar1[0]"
   ]
  },
  {
   "cell_type": "code",
   "execution_count": 47,
   "id": "605f0543",
   "metadata": {},
   "outputs": [
    {
     "data": {
      "text/plain": [
       "array('f', [2.0, 3.0, 4.0, 5.0, 5.599999904632568, 8.0, 8.0])"
      ]
     },
     "execution_count": 47,
     "metadata": {},
     "output_type": "execute_result"
    }
   ],
   "source": [
    "Ar1.append(8)\n",
    "Ar1"
   ]
  },
  {
   "cell_type": "code",
   "execution_count": 49,
   "id": "334a1e08",
   "metadata": {},
   "outputs": [
    {
     "data": {
      "text/plain": [
       "array('f', [2.0, 3.0, 4.0, 5.0, 5.599999904632568])"
      ]
     },
     "execution_count": 49,
     "metadata": {},
     "output_type": "execute_result"
    }
   ],
   "source": [
    "del Ar1[-1]\n",
    "Ar1"
   ]
  },
  {
   "cell_type": "code",
   "execution_count": 50,
   "id": "a38ab3bc",
   "metadata": {},
   "outputs": [
    {
     "data": {
      "text/plain": [
       "array('f', [5.599999904632568, 5.0, 4.0, 3.0, 2.0])"
      ]
     },
     "execution_count": 50,
     "metadata": {},
     "output_type": "execute_result"
    }
   ],
   "source": [
    "Ar1.reverse()\n",
    "Ar1"
   ]
  },
  {
   "cell_type": "code",
   "execution_count": 53,
   "id": "78bcf62f",
   "metadata": {},
   "outputs": [
    {
     "data": {
      "text/plain": [
       "1"
      ]
     },
     "execution_count": 53,
     "metadata": {},
     "output_type": "execute_result"
    }
   ],
   "source": [
    "Ar1.count(5)"
   ]
  },
  {
   "cell_type": "code",
   "execution_count": 54,
   "id": "39487b4b",
   "metadata": {},
   "outputs": [
    {
     "data": {
      "text/plain": [
       "4"
      ]
     },
     "execution_count": 54,
     "metadata": {},
     "output_type": "execute_result"
    }
   ],
   "source": [
    "Ar1.index(2)"
   ]
  },
  {
   "cell_type": "code",
   "execution_count": 55,
   "id": "a776dfbf",
   "metadata": {},
   "outputs": [
    {
     "data": {
      "text/plain": [
       "2.0"
      ]
     },
     "execution_count": 55,
     "metadata": {},
     "output_type": "execute_result"
    }
   ],
   "source": [
    "Ar1.pop() #parenthesis e value na dile last item pop/delete korbe"
   ]
  },
  {
   "cell_type": "code",
   "execution_count": 56,
   "id": "9157453a",
   "metadata": {},
   "outputs": [
    {
     "data": {
      "text/plain": [
       "array('f', [5.599999904632568, 5.0, 4.0, 3.0])"
      ]
     },
     "execution_count": 56,
     "metadata": {},
     "output_type": "execute_result"
    }
   ],
   "source": [
    "Ar1"
   ]
  },
  {
   "cell_type": "code",
   "execution_count": 4,
   "id": "7bd838ca",
   "metadata": {},
   "outputs": [
    {
     "name": "stdout",
     "output_type": "stream",
     "text": [
      "Enter array size: 3\n",
      "Enter array values: 23\n",
      "Enter array values: 43\n",
      "Enter array values: 12\n",
      "array('i', [23, 43, 12])\n"
     ]
    }
   ],
   "source": [
    "newar=ar.array('i',[])\n",
    "\n",
    "items=int(input('Enter array size: '))\n",
    "for i in range(items):\n",
    "    val=int(input('Enter array values: '))\n",
    "    newar.append(val)\n",
    "    \n",
    "print(newar)"
   ]
  },
  {
   "cell_type": "markdown",
   "id": "24dfbf4c",
   "metadata": {},
   "source": [
    "# Dictionaries"
   ]
  },
  {
   "cell_type": "code",
   "execution_count": 18,
   "id": "34122aab",
   "metadata": {},
   "outputs": [],
   "source": [
    "dic={\n",
    "    'name':'Md Hasibul Hasan',\n",
    "    'Institution':'University of Barishal',\n",
    "    'Department':'Statistics',\n",
    "    'Roll no':'20 STA 010'\n",
    "}"
   ]
  },
  {
   "cell_type": "code",
   "execution_count": 19,
   "id": "16348e9c",
   "metadata": {},
   "outputs": [
    {
     "data": {
      "text/plain": [
       "{'name': 'Md Hasibul Hasan',\n",
       " 'Institution': 'University of Barishal',\n",
       " 'Department': 'Statistics',\n",
       " 'Roll no': '20 STA 010'}"
      ]
     },
     "execution_count": 19,
     "metadata": {},
     "output_type": "execute_result"
    }
   ],
   "source": [
    "dic"
   ]
  },
  {
   "cell_type": "code",
   "execution_count": 20,
   "id": "b0e9d490",
   "metadata": {},
   "outputs": [
    {
     "data": {
      "text/plain": [
       "dict"
      ]
     },
     "execution_count": 20,
     "metadata": {},
     "output_type": "execute_result"
    }
   ],
   "source": [
    "type(dic)"
   ]
  },
  {
   "cell_type": "code",
   "execution_count": 21,
   "id": "1700c896",
   "metadata": {},
   "outputs": [
    {
     "data": {
      "text/plain": [
       "dict_keys(['name', 'Institution', 'Department', 'Roll no'])"
      ]
     },
     "execution_count": 21,
     "metadata": {},
     "output_type": "execute_result"
    }
   ],
   "source": [
    "dic.keys()"
   ]
  },
  {
   "cell_type": "code",
   "execution_count": 22,
   "id": "ec3aed9c",
   "metadata": {},
   "outputs": [
    {
     "data": {
      "text/plain": [
       "dict_values(['Md Hasibul Hasan', 'University of Barishal', 'Statistics', '20 STA 010'])"
      ]
     },
     "execution_count": 22,
     "metadata": {},
     "output_type": "execute_result"
    }
   ],
   "source": [
    "dic.values()"
   ]
  },
  {
   "cell_type": "code",
   "execution_count": 23,
   "id": "c19055cf",
   "metadata": {},
   "outputs": [
    {
     "data": {
      "text/plain": [
       "{'name': 'Md Hasibul Hasan',\n",
       " 'Institution': 'University of Barishal',\n",
       " 'Department': 'Statistics',\n",
       " 'Roll no': '20 STA 010'}"
      ]
     },
     "execution_count": 23,
     "metadata": {},
     "output_type": "execute_result"
    }
   ],
   "source": [
    "dic2=dic.copy()\n",
    "dic2"
   ]
  },
  {
   "cell_type": "code",
   "execution_count": 24,
   "id": "8fe69f9a",
   "metadata": {},
   "outputs": [
    {
     "data": {
      "text/plain": [
       "{'name': 'Md Hasibul Hasan',\n",
       " 'Institution': 'University of Rajshahi',\n",
       " 'Department': 'Statistics',\n",
       " 'Roll no': '20 STA 010'}"
      ]
     },
     "execution_count": 24,
     "metadata": {},
     "output_type": "execute_result"
    }
   ],
   "source": [
    "dic['Institution']='University of Rajshahi'\n",
    "dic"
   ]
  },
  {
   "cell_type": "code",
   "execution_count": 31,
   "id": "eee8ad02",
   "metadata": {},
   "outputs": [
    {
     "data": {
      "text/plain": [
       "{'name': 'Md Hasibul Hasan',\n",
       " 'Institution': 'University of Dhaka',\n",
       " 'Department': 'Statistics',\n",
       " 'Roll no': '20 STA 010',\n",
       " 'Mobile number': ['01712259690']}"
      ]
     },
     "execution_count": 31,
     "metadata": {},
     "output_type": "execute_result"
    }
   ],
   "source": [
    "dic.update({'Institution':'University of Dhaka'})\n",
    "dic"
   ]
  },
  {
   "cell_type": "code",
   "execution_count": 29,
   "id": "f2f775d4",
   "metadata": {},
   "outputs": [
    {
     "data": {
      "text/plain": [
       "{'name': 'Md Hasibul Hasan',\n",
       " 'Institution': 'University of Rajshahi',\n",
       " 'Department': 'Statistics',\n",
       " 'Roll no': '20 STA 010',\n",
       " 'Mobile number': ['01712259690']}"
      ]
     },
     "execution_count": 29,
     "metadata": {},
     "output_type": "execute_result"
    }
   ],
   "source": [
    "dic['Mobile number']= ['01712259690']\n",
    "dic"
   ]
  },
  {
   "cell_type": "code",
   "execution_count": 32,
   "id": "9da2cbcb",
   "metadata": {},
   "outputs": [
    {
     "data": {
      "text/plain": [
       "{'name': 'Md Hasibul Hasan',\n",
       " 'Institution': 'University of Dhaka',\n",
       " 'Department': 'Statistics',\n",
       " 'Roll no': '20 STA 010'}"
      ]
     },
     "execution_count": 32,
     "metadata": {},
     "output_type": "execute_result"
    }
   ],
   "source": [
    "dic.popitem()  #dictionary er last item delete\n",
    "dic"
   ]
  },
  {
   "cell_type": "code",
   "execution_count": 33,
   "id": "d3ccd778",
   "metadata": {},
   "outputs": [
    {
     "data": {
      "text/plain": [
       "{'name': 'Md Hasibul Hasan',\n",
       " 'Institution': 'University of Dhaka',\n",
       " 'Roll no': '20 STA 010'}"
      ]
     },
     "execution_count": 33,
     "metadata": {},
     "output_type": "execute_result"
    }
   ],
   "source": [
    "dic.pop('Department')\n",
    "dic"
   ]
  },
  {
   "cell_type": "code",
   "execution_count": 34,
   "id": "9c44d91b",
   "metadata": {},
   "outputs": [
    {
     "data": {
      "text/plain": [
       "{'name': 'Md Hasibul Hasan', 'Institution': 'University of Dhaka'}"
      ]
     },
     "execution_count": 34,
     "metadata": {},
     "output_type": "execute_result"
    }
   ],
   "source": [
    "del dic['Roll no']\n",
    "dic"
   ]
  },
  {
   "cell_type": "code",
   "execution_count": 35,
   "id": "2645b75b",
   "metadata": {},
   "outputs": [
    {
     "name": "stdout",
     "output_type": "stream",
     "text": [
      "name\n",
      "Institution\n"
     ]
    }
   ],
   "source": [
    "#Print all keys\n",
    "for x in dic:\n",
    "    print(x)"
   ]
  },
  {
   "cell_type": "code",
   "execution_count": 36,
   "id": "aad9dc3e",
   "metadata": {},
   "outputs": [
    {
     "name": "stdout",
     "output_type": "stream",
     "text": [
      "Md Hasibul Hasan\n",
      "University of Dhaka\n"
     ]
    }
   ],
   "source": [
    "#Print all values\n",
    "for x in dic:\n",
    "    print(dic[x])"
   ]
  },
  {
   "cell_type": "code",
   "execution_count": 37,
   "id": "701b61e0",
   "metadata": {},
   "outputs": [
    {
     "data": {
      "text/plain": [
       "list[dict_keys(['name', 'Institution'])]"
      ]
     },
     "execution_count": 37,
     "metadata": {},
     "output_type": "execute_result"
    }
   ],
   "source": [
    "d1=list[dic.keys()]\n",
    "d1"
   ]
  },
  {
   "cell_type": "code",
   "execution_count": 38,
   "id": "f88461b4",
   "metadata": {},
   "outputs": [
    {
     "data": {
      "text/plain": [
       "list[dict_keys(['name', 'Institution'])]"
      ]
     },
     "execution_count": 38,
     "metadata": {},
     "output_type": "execute_result"
    }
   ],
   "source": [
    "d1"
   ]
  },
  {
   "cell_type": "code",
   "execution_count": 39,
   "id": "6fac4b68",
   "metadata": {},
   "outputs": [
    {
     "data": {
      "text/plain": [
       "list[dict_values(['Md Hasibul Hasan', 'University of Dhaka'])]"
      ]
     },
     "execution_count": 39,
     "metadata": {},
     "output_type": "execute_result"
    }
   ],
   "source": [
    "list[dic.values()]"
   ]
  },
  {
   "cell_type": "code",
   "execution_count": 3,
   "id": "f903e871",
   "metadata": {},
   "outputs": [
    {
     "name": "stdout",
     "output_type": "stream",
     "text": [
      "Enter dictionary size: 3\n",
      "Type key name: Name\n",
      "Type value:Hasib\n",
      "Type key name: Department\n",
      "Type value:Statistics\n",
      "Type key name: Institution\n",
      "Type value:University of Barishal\n",
      "{'Name': 'Hasib', 'Department': 'Statistics', 'Institution': 'University of Barishal'}\n"
     ]
    }
   ],
   "source": [
    "#Input dictionary data from user\n",
    "n=int(input('Enter dictionary size: '))\n",
    "d={}\n",
    "\n",
    "for i in range(n):\n",
    "    key=input('Type key name: ')\n",
    "    value=input('Type value:')\n",
    "    d[key]=value\n",
    "\n",
    "print(d)    "
   ]
  },
  {
   "cell_type": "code",
   "execution_count": 4,
   "id": "b4034d88",
   "metadata": {},
   "outputs": [
    {
     "data": {
      "text/plain": [
       "{'Name': 'Hasib',\n",
       " 'Department': 'Statistics',\n",
       " 'Institution': 'University of Barishal'}"
      ]
     },
     "execution_count": 4,
     "metadata": {},
     "output_type": "execute_result"
    }
   ],
   "source": [
    "d"
   ]
  },
  {
   "cell_type": "code",
   "execution_count": null,
   "id": "cef60c0d",
   "metadata": {},
   "outputs": [],
   "source": []
  }
 ],
 "metadata": {
  "kernelspec": {
   "display_name": "Python 3 (ipykernel)",
   "language": "python",
   "name": "python3"
  },
  "language_info": {
   "codemirror_mode": {
    "name": "ipython",
    "version": 3
   },
   "file_extension": ".py",
   "mimetype": "text/x-python",
   "name": "python",
   "nbconvert_exporter": "python",
   "pygments_lexer": "ipython3",
   "version": "3.9.12"
  }
 },
 "nbformat": 4,
 "nbformat_minor": 5
}
